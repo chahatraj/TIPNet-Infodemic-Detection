{
  "nbformat": 4,
  "nbformat_minor": 0,
  "metadata": {
    "colab": {
      "name": "Early_Fusion.ipynb",
      "provenance": []
    },
    "kernelspec": {
      "display_name": "Python 3",
      "name": "python3"
    }
  },
  "cells": [
    {
      "cell_type": "markdown",
      "metadata": {
        "id": "k79Q85QGRSRP"
      },
      "source": [
        "# process"
      ]
    },
    {
      "cell_type": "code",
      "metadata": {
        "id": "-cqO-TGnQtOB"
      },
      "source": [
        "import numpy as np\n",
        "import pandas as pd\n",
        "import matplotlib.pyplot as plt\n",
        "import os\n",
        "import cv2\n",
        "from tqdm import tqdm\n",
        "\n",
        "import matplotlib.pyplot as plt\n",
        "import seaborn as sns\n",
        "import warnings\n",
        "from nltk.tokenize import sent_tokenize, word_tokenize \n",
        "import gensim \n",
        "from gensim.models import Word2Vec \n",
        "from sklearn.model_selection import train_test_split\n",
        "from sklearn.preprocessing import LabelEncoder\n",
        "from keras.models import Model\n",
        "from keras.layers import LSTM, Activation, Dense, Dropout, Input, Embedding\n",
        "from keras.optimizers import RMSprop\n",
        "from keras.preprocessing.text import Tokenizer\n",
        "from keras.preprocessing import sequence\n",
        "from keras.utils import to_categorical\n",
        "from keras.callbacks import EarlyStopping, ModelCheckpoint"
      ],
      "execution_count": null,
      "outputs": []
    },
    {
      "cell_type": "code",
      "metadata": {
        "id": "zeSdGIwKRWXy"
      },
      "source": [
        "plt.style.use(\"seaborn\")"
      ],
      "execution_count": null,
      "outputs": []
    },
    {
      "cell_type": "code",
      "metadata": {
        "colab": {
          "base_uri": "https://localhost:8080/",
          "height": 685
        },
        "id": "iIspzmtgRc5v",
        "outputId": "3881ae4c-40f7-4023-d1b0-d5a7fc07ec96"
      },
      "source": [
        "#####################################################         Reading CSV        #################################################\n",
        "\n",
        "from google.colab import drive\n",
        "drive.mount('/content/drive')\n",
        "\n",
        "\n",
        "PATH = os.getcwd()\n",
        "DATADIR = PATH + '/drive/My Drive/Ds/All_data.csv'\n",
        "df = pd.read_csv(DATADIR,delimiter=',',encoding='latin-1')\n",
        "\n",
        "df.info()\n",
        "sns.countplot(df.Label)\n",
        "plt.xlabel('Label')\n",
        "plt.title('Number of Real and Fake News Instances')"
      ],
      "execution_count": null,
      "outputs": [
        {
          "output_type": "stream",
          "text": [
            "Mounted at /content/drive\n",
            "<class 'pandas.core.frame.DataFrame'>\n",
            "RangeIndex: 5172 entries, 0 to 5171\n",
            "Data columns (total 6 columns):\n",
            " #   Column  Non-Null Count  Dtype \n",
            "---  ------  --------------  ----- \n",
            " 0   Index   5172 non-null   int64 \n",
            " 1   Label   5172 non-null   bool  \n",
            " 2   Text    5172 non-null   object\n",
            " 3   Title1  5172 non-null   object\n",
            " 4   Image   5172 non-null   object\n",
            " 5   Title   5172 non-null   object\n",
            "dtypes: bool(1), int64(1), object(4)\n",
            "memory usage: 207.2+ KB\n"
          ],
          "name": "stdout"
        },
        {
          "output_type": "stream",
          "text": [
            "/usr/local/lib/python3.6/dist-packages/seaborn/_decorators.py:43: FutureWarning: Pass the following variable as a keyword arg: x. From version 0.12, the only valid positional argument will be `data`, and passing other arguments without an explicit keyword will result in an error or misinterpretation.\n",
            "  FutureWarning\n"
          ],
          "name": "stderr"
        },
        {
          "output_type": "execute_result",
          "data": {
            "text/plain": [
              "Text(0.5, 1.0, 'Number of Real and Fake News Instances')"
            ]
          },
          "metadata": {
            "tags": []
          },
          "execution_count": 3
        },
        {
          "output_type": "display_data",
          "data": {
            "image/png": "[encoded data removed]",
            "text/plain": [
              "<Figure size 576x396 with 1 Axes>"
            ]
          },
          "metadata": {
            "tags": []
          }
        }
      ]
    },
    {
      "cell_type": "code",
      "metadata": {
        "colab": {
          "base_uri": "https://localhost:8080/",
          "height": 595
        },
        "id": "5_5iN-KiRhVT",
        "outputId": "d59d8c8c-a11f-4c70-c067-da350c2d82ce"
      },
      "source": [
        "df.head()\n",
        "df['Label'].value_counts()\n",
        "#df['main_img_url'].value_counts()\n",
        "df.head()"
      ],
      "execution_count": null,
      "outputs": [
        {
          "output_type": "execute_result",
          "data": {
            "text/html": [
              "<div>\n",
              "<style scoped>\n",
              "    .dataframe tbody tr th:only-of-type {\n",
              "        vertical-align: middle;\n",
              "    }\n",
              "\n",
              "    .dataframe tbody tr th {\n",
              "        vertical-align: top;\n",
              "    }\n",
              "\n",
              "    .dataframe thead th {\n",
              "        text-align: right;\n",
              "    }\n",
              "</style>\n",
              "<table border=\"1\" class=\"dataframe\">\n",
              "  <thead>\n",
              "    <tr style=\"text-align: right;\">\n",
              "      <th></th>\n",
              "      <th>Index</th>\n",
              "      <th>Label</th>\n",
              "      <th>Text</th>\n",
              "      <th>Title1</th>\n",
              "      <th>Image</th>\n",
              "      <th>Title</th>\n",
              "    </tr>\n",
              "  </thead>\n",
              "  <tbody>\n",
              "    <tr>\n",
              "      <th>0</th>\n",
              "      <td>1</td>\n",
              "      <td>True</td>\n",
              "      <td>They stood in line at Trump Tower, sometimes u...</td>\n",
              "      <td>At Donald Trump&lt;U+2019&gt;s Properties, a Showcas...</td>\n",
              "      <td>https://static01.nyt.com/images/2016/11/23/us/...</td>\n",
              "      <td>They stood in line at Trump Tower, sometimes u...</td>\n",
              "    </tr>\n",
              "    <tr>\n",
              "      <th>1</th>\n",
              "      <td>2</td>\n",
              "      <td>True</td>\n",
              "      <td>Donald J. Trump &lt;U+2019&gt;s foundation informed ...</td>\n",
              "      <td>Trump Foundation Tells New York It Has Stopped...</td>\n",
              "      <td>https://static01.nyt.com/images/2016/10/18/us/...</td>\n",
              "      <td>Donald J. Trump &lt;U+2019&gt;s foundation informed ...</td>\n",
              "    </tr>\n",
              "    <tr>\n",
              "      <th>2</th>\n",
              "      <td>3</td>\n",
              "      <td>True</td>\n",
              "      <td>President-elect Donald J. Trump won the White ...</td>\n",
              "      <td>Donald Trump Prepares for White House Move, bu...</td>\n",
              "      <td>https://static01.nyt.com/images/2016/11/12/us/...</td>\n",
              "      <td>President-elect Donald J. Trump won the White ...</td>\n",
              "    </tr>\n",
              "    <tr>\n",
              "      <th>3</th>\n",
              "      <td>4</td>\n",
              "      <td>True</td>\n",
              "      <td>An investment pitch for a new Texas hotel is t...</td>\n",
              "      <td>Luring Chinese Investors With Trump&lt;U+2019&gt;s N...</td>\n",
              "      <td>https://static01.nyt.com/images/2016/10/21/bus...</td>\n",
              "      <td>An investment pitch for a new Texas hotel is t...</td>\n",
              "    </tr>\n",
              "    <tr>\n",
              "      <th>4</th>\n",
              "      <td>5</td>\n",
              "      <td>True</td>\n",
              "      <td>President-elect Donald J. Trump &lt;U+2019&gt;s wife...</td>\n",
              "      <td>Melania and Barron Trump Won&lt;U+2019&gt;t Immediat...</td>\n",
              "      <td>https://static01.nyt.com/images/2016/11/21/us/...</td>\n",
              "      <td>President-elect Donald J. Trump &lt;U+2019&gt;s wife...</td>\n",
              "    </tr>\n",
              "  </tbody>\n",
              "</table>\n",
              "</div>"
            ],
            "text/plain": [
              "   Index  ...                                              Title\n",
              "0      1  ...  They stood in line at Trump Tower, sometimes u...\n",
              "1      2  ...  Donald J. Trump <U+2019>s foundation informed ...\n",
              "2      3  ...  President-elect Donald J. Trump won the White ...\n",
              "3      4  ...  An investment pitch for a new Texas hotel is t...\n",
              "4      5  ...  President-elect Donald J. Trump <U+2019>s wife...\n",
              "\n",
              "[5 rows x 6 columns]"
            ]
          },
          "metadata": {
            "tags": []
          },
          "execution_count": 4
        }
      ]
    },
    {
      "cell_type": "code",
      "metadata": {
        "colab": {
          "base_uri": "https://localhost:8080/"
        },
        "id": "GCxnCSpoRt5t",
        "outputId": "6baa5835-dcc9-43f6-c4fa-48d3a8f1c87d"
      },
      "source": [
        "data = df[[\"Label\",\"Text\",\"Title\",\"Image\"]]\n",
        "print(data['Label'].value_counts())\n",
        "data.columns"
      ],
      "execution_count": null,
      "outputs": [
        {
          "output_type": "stream",
          "text": [
            "True     2725\n",
            "False    2447\n",
            "Name: Label, dtype: int64\n"
          ],
          "name": "stdout"
        },
        {
          "output_type": "execute_result",
          "data": {
            "text/plain": [
              "Index(['Label', 'Text', 'Title', 'Image'], dtype='object')"
            ]
          },
          "metadata": {
            "tags": []
          },
          "execution_count": 5
        }
      ]
    },
    {
      "cell_type": "code",
      "metadata": {
        "colab": {
          "base_uri": "https://localhost:8080/",
          "height": 668
        },
        "id": "qk1xON18RyIL",
        "outputId": "29b2fa7e-ad6a-4a73-b953-3335ea7fa6de"
      },
      "source": [
        "data.info()\n",
        "sns.countplot(data.Label)\n",
        "plt.xlabel('Label')\n",
        "plt.title('Number of Real and Fake News Instances')\n",
        "data.Label.value_counts()"
      ],
      "execution_count": null,
      "outputs": [
        {
          "output_type": "stream",
          "text": [
            "<class 'pandas.core.frame.DataFrame'>\n",
            "RangeIndex: 5172 entries, 0 to 5171\n",
            "Data columns (total 4 columns):\n",
            " #   Column  Non-Null Count  Dtype \n",
            "---  ------  --------------  ----- \n",
            " 0   Label   5172 non-null   bool  \n",
            " 1   Text    5172 non-null   object\n",
            " 2   Title   5172 non-null   object\n",
            " 3   Image   5172 non-null   object\n",
            "dtypes: bool(1), object(3)\n",
            "memory usage: 126.4+ KB\n"
          ],
          "name": "stdout"
        },
        {
          "output_type": "stream",
          "text": [
            "/usr/local/lib/python3.6/dist-packages/seaborn/_decorators.py:43: FutureWarning: Pass the following variable as a keyword arg: x. From version 0.12, the only valid positional argument will be `data`, and passing other arguments without an explicit keyword will result in an error or misinterpretation.\n",
            "  FutureWarning\n"
          ],
          "name": "stderr"
        },
        {
          "output_type": "execute_result",
          "data": {
            "text/plain": [
              "True     2725\n",
              "False    2447\n",
              "Name: Label, dtype: int64"
            ]
          },
          "metadata": {
            "tags": []
          },
          "execution_count": 6
        },
        {
          "output_type": "display_data",
          "data": {
            "image/png": "[encoded data removed]",
            "text/plain": [
              "<Figure size 576x396 with 1 Axes>"
            ]
          },
          "metadata": {
            "tags": []
          }
        }
      ]
    },
    {
      "cell_type": "code",
      "metadata": {
        "colab": {
          "base_uri": "https://localhost:8080/",
          "height": 844
        },
        "id": "U3UOh0tpR1Ll",
        "outputId": "6a71568f-13d0-4ecd-e4a0-7c4cc144b71f"
      },
      "source": [
        "CATEGORIES = ['True', 'False']\n",
        "LENDIR=len(CATEGORIES)\n",
        "\n",
        "IMG_SIZE = 128\n",
        "#############################################################      Reading Image URL       ########################################################\n",
        "from google.colab.patches import cv2_imshow\n",
        "from skimage import io\n",
        "import cv2\n",
        "import urllib\n",
        "import numpy as np\n",
        "import imutils\n",
        "from matplotlib import pyplot as plt\n",
        "\n",
        "x=0\n",
        "for i, j in data.iterrows(): \n",
        "  link=j[\"Image\"]\n",
        "  print(link)\n",
        "  if(x%500==0):\n",
        "    print(x)\n",
        "  try:\n",
        "    img_array = imutils.url_to_image(link)\n",
        "    new_array = cv2.resize(img_array, (IMG_SIZE,IMG_SIZE))\n",
        "    cv2_imshow(new_array)\n",
        "    x=x+1\n",
        "    print(new_array.shape)\n",
        "  except Exception as e:  # in the interest in keeping the output clean... \n",
        "    #data.drop(data[ data['main_img_url'] == link ].index, inplace = True)\n",
        "    print('2')\n",
        "    pass\n",
        "    #print(i,j)\n",
        "  if(x==5): \n",
        "    break;   #.....show only one\n",
        "\n",
        "IMG_SIZE = 128\n"
      ],
      "execution_count": null,
      "outputs": [
        {
          "output_type": "stream",
          "text": [
            "https://static01.nyt.com/images/2016/11/23/us/23spectacle1/23spectacle1-master768.jpg\n",
            "0\n"
          ],
          "name": "stdout"
        },
        {
          "output_type": "display_data",
          "data": {
            "image/png": "[encoded data removed]",
            "text/plain": [
              "<PIL.Image.Image image mode=RGB size=128x128 at 0x7F5B1C59AF28>"
            ]
          },
          "metadata": {
            "tags": []
          }
        },
        {
          "output_type": "stream",
          "text": [
            "(128, 128, 3)\n",
            "https://static01.nyt.com/images/2016/10/18/us/18fd-trumpfoundation/18fd-trumpfoundation-master675.jpg\n"
          ],
          "name": "stdout"
        },
        {
          "output_type": "display_data",
          "data": {
            "image/png": "[encoded data removed]",
            "text/plain": [
              "<PIL.Image.Image image mode=RGB size=128x128 at 0x7F5B1C1037F0>"
            ]
          },
          "metadata": {
            "tags": []
          }
        },
        {
          "output_type": "stream",
          "text": [
            "(128, 128, 3)\n",
            "https://static01.nyt.com/images/2016/11/12/us/12tower1/12tower1-master768.jpg\n"
          ],
          "name": "stdout"
        },
        {
          "output_type": "display_data",
          "data": {
            "image/png": "[encoded data removed]",
            "text/plain": [
              "<PIL.Image.Image image mode=RGB size=128x128 at 0x7F5B1C103C50>"
            ]
          },
          "metadata": {
            "tags": []
          }
        },
        {
          "output_type": "stream",
          "text": [
            "(128, 128, 3)\n",
            "https://static01.nyt.com/images/2016/10/21/business/21VISA2sub/21VISA2sub-master768.jpg\n"
          ],
          "name": "stdout"
        },
        {
          "output_type": "display_data",
          "data": {
            "image/png": "[encoded data removed]",
            "text/plain": [
              "<PIL.Image.Image image mode=RGB size=128x128 at 0x7F5B1C103320>"
            ]
          },
          "metadata": {
            "tags": []
          }
        },
        {
          "output_type": "stream",
          "text": [
            "(128, 128, 3)\n",
            "https://static01.nyt.com/images/2016/11/21/us/21melania/21melania-master768.jpg\n"
          ],
          "name": "stdout"
        },
        {
          "output_type": "display_data",
          "data": {
            "image/png": "[encoded data removed]",
            "text/plain": [
              "<PIL.Image.Image image mode=RGB size=128x128 at 0x7F5B1C103E80>"
            ]
          },
          "metadata": {
            "tags": []
          }
        },
        {
          "output_type": "stream",
          "text": [
            "(128, 128, 3)\n"
          ],
          "name": "stdout"
        }
      ]
    },
    {
      "cell_type": "code",
      "metadata": {
        "id": "6RqxpARXR3_H"
      },
      "source": [
        "from sklearn.utils import shuffle\n",
        "data = shuffle(data)    # Randomly shuffling the dataframe rows\n",
        "data.reset_index(drop = True, inplace = True) "
      ],
      "execution_count": null,
      "outputs": []
    },
    {
      "cell_type": "code",
      "metadata": {
        "id": "F8pbpFpjR7ty"
      },
      "source": [
        "#################################################################    Lables Encoding    #######################################################\n",
        "labelencoder = LabelEncoder()\n",
        "#for i,j in data.iterrows():\n",
        "  #j['type'] = labelencoder.fit_transform(j['type'])\n",
        "Y = data.Label\n",
        "Y = labelencoder.fit_transform(Y)"
      ],
      "execution_count": null,
      "outputs": []
    },
    {
      "cell_type": "code",
      "metadata": {
        "colab": {
          "base_uri": "https://localhost:8080/"
        },
        "id": "1GeUNe2LR-PT",
        "outputId": "9a31a838-7d71-4dae-f8a3-abb5c15e0ac3"
      },
      "source": [
        "print(len(Y))\n",
        "print(Y[:5])"
      ],
      "execution_count": null,
      "outputs": [
        {
          "output_type": "stream",
          "text": [
            "5172\n",
            "[1 1 1 1 0]\n"
          ],
          "name": "stdout"
        }
      ]
    },
    {
      "cell_type": "code",
      "metadata": {
        "colab": {
          "background_save": true,
          "base_uri": "https://localhost:8080/"
        },
        "id": "MOPCqDjBSApw",
        "outputId": "91d785b5-3f4b-428f-c14a-4e0251005904"
      },
      "source": [
        "##############################################################    Reading and Preprocessing Images       ###########################################################\n",
        "from google.colab.patches import cv2_imshow\n",
        "from skimage import io\n",
        "import cv2\n",
        "import urllib\n",
        "import numpy as np\n",
        "import imutils\n",
        "\n",
        "training_data_img = []\n",
        "\n",
        "IMG_SIZE = 128\n",
        "\n",
        "def create_training_data():\n",
        " \n",
        "  x=0\n",
        "  for i, j in data.iterrows(): \n",
        "    \n",
        "    link=j['Image']\n",
        "    #print(link)\n",
        "    if(x%500==0):\n",
        "      print(x)\n",
        "\n",
        "    try:\n",
        "      #img_array=io.imread(link);\n",
        "      img_array = imutils.url_to_image(link)\n",
        "      \n",
        "      new_array = cv2.resize(img_array, (IMG_SIZE,IMG_SIZE))\n",
        "\n",
        "      x=x+1\n",
        "      training_data_img.append([new_array,Y[i]])\n",
        "      #print('1')\n",
        "    except Exception as e:  # in the interest in keeping the output clean... \n",
        "      data.drop(data[ data['Image'] == link ].index, inplace = True)\n",
        "      print('2')\n",
        "      pass\n",
        "      #print(i,j) \n",
        " \n",
        "create_training_data()\n",
        " \n",
        "print(len(training_data_img))"
      ],
      "execution_count": null,
      "outputs": [
        {
          "output_type": "stream",
          "text": [
            "0\n",
            "2\n",
            "2\n",
            "2\n",
            "2\n",
            "2\n",
            "2\n",
            "2\n",
            "2\n",
            "2\n",
            "2\n",
            "2\n",
            "2\n",
            "2\n",
            "2\n",
            "2\n",
            "2\n",
            "2\n",
            "2\n",
            "2\n",
            "2\n",
            "2\n",
            "2\n",
            "2\n",
            "2\n",
            "2\n",
            "2\n",
            "2\n",
            "2\n",
            "2\n",
            "2\n",
            "2\n",
            "2\n",
            "2\n",
            "2\n",
            "2\n",
            "2\n",
            "2\n",
            "2\n",
            "2\n",
            "2\n",
            "2\n",
            "2\n",
            "2\n",
            "2\n",
            "2\n",
            "2\n",
            "2\n",
            "2\n",
            "2\n",
            "2\n",
            "2\n",
            "2\n",
            "2\n",
            "2\n",
            "500\n",
            "2\n",
            "2\n",
            "2\n",
            "2\n",
            "2\n",
            "2\n",
            "2\n",
            "2\n",
            "2\n",
            "2\n",
            "2\n",
            "2\n",
            "2\n",
            "2\n",
            "2\n",
            "2\n",
            "2\n",
            "2\n",
            "2\n",
            "2\n",
            "2\n",
            "2\n",
            "2\n",
            "2\n",
            "2\n",
            "2\n",
            "2\n",
            "2\n",
            "2\n",
            "2\n",
            "2\n",
            "2\n",
            "2\n",
            "2\n",
            "2\n",
            "2\n",
            "2\n",
            "2\n",
            "2\n",
            "2\n",
            "2\n",
            "2\n",
            "2\n",
            "2\n",
            "2\n",
            "2\n",
            "2\n",
            "2\n",
            "2\n",
            "1000\n",
            "2\n",
            "2\n",
            "2\n",
            "2\n",
            "2\n",
            "2\n",
            "2\n",
            "2\n",
            "2\n",
            "2\n",
            "2\n",
            "2\n",
            "2\n",
            "2\n",
            "2\n",
            "2\n",
            "2\n",
            "2\n",
            "2\n",
            "2\n",
            "2\n",
            "2\n",
            "2\n",
            "2\n",
            "2\n",
            "2\n",
            "2\n",
            "2\n",
            "2\n",
            "2\n",
            "2\n",
            "2\n",
            "2\n",
            "2\n",
            "2\n",
            "2\n",
            "2\n",
            "2\n",
            "2\n",
            "2\n",
            "2\n",
            "2\n",
            "2\n",
            "2\n",
            "2\n",
            "2\n",
            "2\n",
            "2\n",
            "1500\n",
            "2\n",
            "2\n",
            "2\n",
            "2\n",
            "2\n",
            "2\n",
            "2\n",
            "2\n",
            "2\n",
            "2\n",
            "2\n",
            "2\n",
            "2\n",
            "2\n",
            "2\n",
            "2\n",
            "2\n",
            "2\n",
            "2\n",
            "2\n",
            "2\n",
            "2\n",
            "2\n",
            "2\n",
            "2\n",
            "2\n",
            "2\n",
            "2\n",
            "2\n",
            "2\n",
            "2\n",
            "2\n",
            "2\n",
            "2\n",
            "2\n",
            "2\n",
            "2\n",
            "2\n",
            "2\n",
            "2\n",
            "2\n",
            "2\n",
            "2\n",
            "2\n",
            "2\n",
            "2\n",
            "2\n",
            "2\n",
            "2\n",
            "2\n",
            "2000\n",
            "2\n",
            "2\n",
            "2\n",
            "2\n",
            "2\n",
            "2\n",
            "2\n",
            "2\n",
            "2\n",
            "2\n",
            "2\n",
            "2\n",
            "2\n",
            "2\n",
            "2\n",
            "2\n",
            "2\n",
            "2\n",
            "2\n",
            "2\n",
            "2\n",
            "2\n",
            "2\n",
            "2\n",
            "2\n",
            "2\n",
            "2\n",
            "2\n",
            "2\n",
            "2\n",
            "2\n",
            "2\n",
            "2\n",
            "2\n",
            "2\n",
            "2\n",
            "2\n",
            "2\n",
            "2\n",
            "2\n",
            "2\n",
            "2\n",
            "2\n",
            "2\n",
            "2\n",
            "2\n",
            "2\n",
            "2500\n",
            "2\n",
            "2\n",
            "2\n",
            "2\n",
            "2\n",
            "2\n",
            "2\n",
            "2\n",
            "2\n",
            "2\n",
            "2\n",
            "2\n",
            "2\n",
            "2\n",
            "2\n",
            "2\n",
            "2\n",
            "2\n",
            "2\n",
            "2\n",
            "2\n",
            "2\n",
            "2\n",
            "2\n",
            "2\n",
            "2\n",
            "2\n",
            "2\n",
            "2\n",
            "2\n",
            "2\n",
            "2\n",
            "2\n",
            "2\n",
            "2\n",
            "2\n",
            "2\n",
            "2\n",
            "2\n",
            "2\n",
            "2\n",
            "2\n",
            "2\n",
            "2\n",
            "2\n",
            "2\n",
            "2\n",
            "2\n",
            "2\n",
            "2\n",
            "2\n",
            "3000\n",
            "2\n",
            "2\n",
            "2\n",
            "2\n",
            "2\n",
            "2\n",
            "2\n",
            "2\n",
            "2\n",
            "2\n",
            "2\n",
            "2\n",
            "2\n",
            "2\n",
            "2\n",
            "2\n",
            "2\n",
            "2\n",
            "2\n",
            "2\n",
            "2\n",
            "2\n",
            "2\n",
            "2\n",
            "2\n",
            "2\n",
            "2\n",
            "2\n",
            "2\n",
            "2\n",
            "2\n",
            "2\n",
            "2\n",
            "2\n",
            "2\n",
            "2\n",
            "2\n",
            "2\n",
            "2\n",
            "2\n",
            "2\n",
            "2\n",
            "2\n",
            "2\n",
            "2\n",
            "2\n",
            "2\n",
            "2\n",
            "2\n",
            "2\n",
            "3500\n",
            "2\n",
            "2\n",
            "2\n",
            "2\n",
            "2\n",
            "2\n",
            "2\n",
            "2\n",
            "2\n",
            "2\n",
            "2\n",
            "2\n",
            "2\n",
            "2\n",
            "2\n",
            "2\n",
            "2\n",
            "2\n",
            "2\n",
            "2\n",
            "2\n",
            "2\n",
            "2\n",
            "2\n",
            "2\n",
            "2\n",
            "2\n",
            "2\n",
            "2\n",
            "2\n",
            "2\n",
            "2\n",
            "2\n",
            "2\n",
            "2\n",
            "2\n",
            "2\n",
            "2\n",
            "2\n",
            "2\n",
            "2\n",
            "2\n",
            "2\n",
            "2\n",
            "2\n",
            "2\n",
            "2\n",
            "2\n",
            "2\n",
            "2\n",
            "2\n",
            "2\n",
            "2\n",
            "4000\n",
            "2\n",
            "2\n",
            "2\n",
            "2\n",
            "2\n",
            "2\n",
            "2\n",
            "2\n",
            "2\n",
            "2\n",
            "2\n",
            "2\n",
            "2\n",
            "2\n",
            "2\n",
            "2\n",
            "2\n",
            "2\n",
            "2\n",
            "2\n",
            "2\n",
            "2\n",
            "2\n",
            "2\n",
            "2\n",
            "2\n",
            "2\n",
            "2\n",
            "2\n",
            "2\n",
            "2\n",
            "2\n",
            "2\n",
            "2\n",
            "2\n",
            "2\n",
            "2\n",
            "2\n",
            "2\n",
            "2\n",
            "2\n",
            "2\n",
            "2\n",
            "2\n",
            "2\n",
            "2\n",
            "2\n",
            "2\n",
            "2\n",
            "2\n",
            "2\n",
            "2\n",
            "4500\n",
            "2\n",
            "2\n",
            "2\n",
            "2\n",
            "2\n",
            "2\n",
            "2\n",
            "2\n",
            "2\n",
            "2\n",
            "2\n",
            "2\n",
            "2\n",
            "2\n",
            "2\n",
            "2\n",
            "2\n",
            "2\n",
            "2\n",
            "4699\n"
          ],
          "name": "stdout"
        }
      ]
    },
    {
      "cell_type": "code",
      "metadata": {
        "colab": {
          "base_uri": "https://localhost:8080/",
          "height": 668
        },
        "id": "0jTT1RPVSDe4",
        "outputId": "dfe16885-4fd4-4a79-f044-7835e9641aac"
      },
      "source": [
        "data.info()\n",
        "sns.countplot(data.Label)\n",
        "plt.xlabel('Label')\n",
        "plt.title('Number of Real and Fake News Instances')\n",
        "data.Label.value_counts()"
      ],
      "execution_count": null,
      "outputs": [
        {
          "output_type": "stream",
          "text": [
            "<class 'pandas.core.frame.DataFrame'>\n",
            "Int64Index: 1052 entries, 0 to 1079\n",
            "Data columns (total 4 columns):\n",
            " #   Column  Non-Null Count  Dtype \n",
            "---  ------  --------------  ----- \n",
            " 0   Label   1052 non-null   object\n",
            " 1   Text    1052 non-null   object\n",
            " 2   Title   1052 non-null   object\n",
            " 3   Image   1052 non-null   object\n",
            "dtypes: object(4)\n",
            "memory usage: 41.1+ KB\n"
          ],
          "name": "stdout"
        },
        {
          "output_type": "stream",
          "text": [
            "/usr/local/lib/python3.6/dist-packages/seaborn/_decorators.py:43: FutureWarning: Pass the following variable as a keyword arg: x. From version 0.12, the only valid positional argument will be `data`, and passing other arguments without an explicit keyword will result in an error or misinterpretation.\n",
            "  FutureWarning\n"
          ],
          "name": "stderr"
        },
        {
          "output_type": "execute_result",
          "data": {
            "text/plain": [
              "Other                   888\n",
              "5G Corona Conspiracy    164\n",
              "Name: Label, dtype: int64"
            ]
          },
          "metadata": {
            "tags": []
          },
          "execution_count": 12
        },
        {
          "output_type": "display_data",
          "data": {
            "image/png": "[encoded data removed]",
            "text/plain": [
              "<Figure size 576x396 with 1 Axes>"
            ]
          },
          "metadata": {
            "tags": []
          }
        }
      ]
    },
    {
      "cell_type": "code",
      "metadata": {
        "colab": {
          "base_uri": "https://localhost:8080/"
        },
        "id": "gs7rK3uhSGn8",
        "outputId": "adbc17e9-b00a-44f7-be1f-c5fb34d2c721"
      },
      "source": [
        "print(type(training_data_img))\n",
        "print(np.array(training_data_img).shape)\n",
        "print(len(data))\n",
        "#print(training_data_img[0])\n",
        "print(len(training_data_img[0][0]))\n",
        "print(len(training_data_img[0][0][0]))"
      ],
      "execution_count": null,
      "outputs": [
        {
          "output_type": "stream",
          "text": [
            "<class 'list'>\n",
            "(1052, 2)\n",
            "1052\n",
            "128\n",
            "128\n"
          ],
          "name": "stdout"
        },
        {
          "output_type": "stream",
          "text": [
            "/usr/local/lib/python3.6/dist-packages/ipykernel_launcher.py:2: VisibleDeprecationWarning: Creating an ndarray from ragged nested sequences (which is a list-or-tuple of lists-or-tuples-or ndarrays with different lengths or shapes) is deprecated. If you meant to do this, you must specify 'dtype=object' when creating the ndarray\n",
            "  \n"
          ],
          "name": "stderr"
        }
      ]
    },
    {
      "cell_type": "code",
      "metadata": {
        "id": "eMTbiwQPSKNm"
      },
      "source": [
        "from pickle import dump, load\n",
        "# save the scaler\n",
        "dump(training_data_img, open('training_data_img.pkl', 'wb'))"
      ],
      "execution_count": null,
      "outputs": []
    },
    {
      "cell_type": "code",
      "metadata": {
        "colab": {
          "base_uri": "https://localhost:8080/"
        },
        "id": "eTJNoWcNSMf4",
        "outputId": "1ce627a0-fa24-4250-8cac-ad0f8eafd498"
      },
      "source": [
        "# load the scaler\n",
        "training_data_img = load(open('training_data_img.pkl', 'rb'))\n",
        " \n",
        "print(len(training_data_img))\n",
        "print(type(training_data_img))\n",
        " \n",
        "print(np.array(training_data_img).shape)\n",
        " \n",
        "print(len(training_data_img[0][0]))\n",
        "print(len(training_data_img[0][0][0]))"
      ],
      "execution_count": null,
      "outputs": [
        {
          "output_type": "stream",
          "text": [
            "1052\n",
            "<class 'list'>\n",
            "(1052, 2)\n",
            "128\n",
            "128\n"
          ],
          "name": "stdout"
        },
        {
          "output_type": "stream",
          "text": [
            "/usr/local/lib/python3.6/dist-packages/ipykernel_launcher.py:7: VisibleDeprecationWarning: Creating an ndarray from ragged nested sequences (which is a list-or-tuple of lists-or-tuples-or ndarrays with different lengths or shapes) is deprecated. If you meant to do this, you must specify 'dtype=object' when creating the ndarray\n",
            "  import sys\n"
          ],
          "name": "stderr"
        }
      ]
    },
    {
      "cell_type": "code",
      "metadata": {
        "colab": {
          "base_uri": "https://localhost:8080/"
        },
        "id": "wqxP8vWkSPDL",
        "outputId": "d7e86e58-f372-4ae5-e942-d1e47f7faa59"
      },
      "source": [
        "X_img = []\n",
        "labels = []\n",
        "IMG_SIZE = 128\n",
        "\n",
        "for features,label in training_data_img:\n",
        "    X_img.append(features)\n",
        "    labels.append(label)\n",
        "\n",
        "X_img = np.array(X_img).reshape(-1, IMG_SIZE, IMG_SIZE, 3)\n",
        "\n",
        "X_img = X_img/255.0\n",
        "print(type(X_img))\n",
        "print((X_img).shape)\n",
        "print(len(training_data_img))\n",
        "#print(X_img[0])\n",
        "\n",
        "############################################################################################      Image Preprocessing done     #########################################################################"
      ],
      "execution_count": null,
      "outputs": [
        {
          "output_type": "stream",
          "text": [
            "<class 'numpy.ndarray'>\n",
            "(1052, 128, 128, 3)\n",
            "1052\n"
          ],
          "name": "stdout"
        }
      ]
    },
    {
      "cell_type": "code",
      "metadata": {
        "colab": {
          "base_uri": "https://localhost:8080/"
        },
        "id": "fN8sUR82STPM",
        "outputId": "956716f6-ba3a-4202-eecc-893494858562"
      },
      "source": [
        "train_df = data.Text\n",
        "print(train_df[0])\n",
        "train_df = train_df.astype(str)\n",
        "print(train_df[0])\n",
        "print(len(data.Text))"
      ],
      "execution_count": null,
      "outputs": [
        {
          "output_type": "stream",
          "text": [
            "Right... if this says \"based on a true story\" at the beginning, I will EAT a 5G tower. Is the next film going to be 5G Zombies Vs Corona Zombies? https://t.co/Q6Qz8GTDd3\n",
            "Right... if this says \"based on a true story\" at the beginning, I will EAT a 5G tower. Is the next film going to be 5G Zombies Vs Corona Zombies? https://t.co/Q6Qz8GTDd3\n",
            "1052\n"
          ],
          "name": "stdout"
        }
      ]
    },
    {
      "cell_type": "code",
      "metadata": {
        "colab": {
          "base_uri": "https://localhost:8080/"
        },
        "id": "1weFq0nFSVxR",
        "outputId": "1d1a3634-8129-4eab-ac58-6f9528298b6a"
      },
      "source": [
        "#############################################################################################      Reading and preprocessing Text       ##################################################################################\n",
        "# import warnings\n",
        "# warnings.filterwarnings(\"ignore\")                     #Ignoring unnecessory warnings\n",
        "\n",
        "import numpy as np                                  \n",
        "import pandas as pd                                 \n",
        "import nltk       \n",
        "import gensim                                  \n",
        "\n",
        "from nltk.corpus import stopwords                   #Stopwords corpus\n",
        "from nltk.stem import PorterStemmer                 # Stemmer\n",
        "\n",
        "from sklearn.feature_extraction.text import CountVectorizer          #For Bag of words\n",
        "from sklearn.feature_extraction.text import TfidfVectorizer          #For TF-IDF\n",
        "\n",
        "from gensim.models import Word2Vec                                   #For Word2Vec\n",
        "\n",
        "X_text = data.Text\n",
        "\n",
        "#X1,X2,Y1,Y2 = train_test_split(X_text,y_text,test_size=0.30)\n",
        "X_text = X_text.astype(str)\n",
        "\n",
        "########################################\n",
        "## process texts in datasets\n",
        "########################################\n",
        "print('Processing text dataset')\n",
        "from nltk.tokenize import WordPunctTokenizer\n",
        "from collections import Counter\n",
        "from string import punctuation, ascii_lowercase\n",
        "import regex as re\n",
        "from tqdm import tqdm\n",
        "\n",
        "# replace urls\n",
        "re_url = re.compile(r\"((http|https)\\:\\/\\/)?[a-zA-Z0-9\\.\\/\\?\\:@\\-_=#]+\\\n",
        "                    .([a-zA-Z]){2,6}([a-zA-Z0-9\\.\\&\\/\\?\\:@\\-_=#])*\",\n",
        "                    re.MULTILINE|re.UNICODE)\n",
        "# replace ips\n",
        "re_ip = re.compile(\"\\d{1,3}\\.\\d{1,3}\\.\\d{1,3}\\.\\d{1,3}\")\n",
        "\n",
        "# setup tokenizer\n",
        "tokenizer = WordPunctTokenizer()\n",
        "\n",
        "vocab = Counter()\n",
        "\n",
        "def text_to_wordlist(text, lower=False):\n",
        "    # replace URLs\n",
        "    text = re_url.sub(\"URL\", text)\n",
        "    \n",
        "    # replace IPs\n",
        "    text = re_ip.sub(\"IPADDRESS\", text)\n",
        "    \n",
        "    # Tokenize\n",
        "    text = tokenizer.tokenize(text)\n",
        "    \n",
        "    # optional: lower case\n",
        "    if lower:\n",
        "        text = [t.lower() for t in text]\n",
        "    \n",
        "    # Return a list of words\n",
        "    vocab.update(text)\n",
        "    return text\n",
        "\n",
        "def process_comments(list_sentences, lower=False):\n",
        "    comments = []\n",
        "    for text in tqdm(list_sentences):\n",
        "        txt = text_to_wordlist(text, lower=lower)\n",
        "        comments.append(txt)\n",
        "    return comments\n",
        "\n",
        "                \n",
        "comments_text = process_comments(X_text, lower=True)\n",
        "\n",
        "print(comments_text[0])"
      ],
      "execution_count": null,
      "outputs": [
        {
          "output_type": "stream",
          "text": [
            "100%|██████████| 1052/1052 [00:00<00:00, 22124.43it/s]"
          ],
          "name": "stderr"
        },
        {
          "output_type": "stream",
          "text": [
            "Processing text dataset\n",
            "['right', '...', 'if', 'this', 'says', '\"', 'based', 'on', 'a', 'true', 'story', '\"', 'at', 'the', 'beginning', ',', 'i', 'will', 'eat', 'a', '5g', 'tower', '.', 'is', 'the', 'next', 'film', 'going', 'to', 'be', '5g', 'zombies', 'vs', 'corona', 'zombies', '?', 'https', '://', 't', '.', 'co', '/', 'q6qz8gtdd3']\n"
          ],
          "name": "stdout"
        },
        {
          "output_type": "stream",
          "text": [
            "\n"
          ],
          "name": "stderr"
        }
      ]
    },
    {
      "cell_type": "code",
      "metadata": {
        "colab": {
          "base_uri": "https://localhost:8080/"
        },
        "id": "zYBMPwh8SYb6",
        "outputId": "cbf40968-cdee-42a0-8f75-9dbd2a205c4c"
      },
      "source": [
        "################################################     1.  Remove stopwords         ######################################################\n",
        "nltk.download(\"stopwords\")\n",
        "stop = set(stopwords.words('english')) \n",
        "print(stop)\n",
        "print(len(X_text))\n",
        "print(X_text.shape)\n",
        "print(X_text.head())\n",
        "print(type(X_text))\n",
        "\n",
        "X_text_copy = X_text\n",
        "\n",
        "import re               \n",
        "temp =[]\n",
        "snow = nltk.stem.SnowballStemmer('english')\n",
        "for sentence in tqdm(X_text_copy):\n",
        "    sentence = sentence.lower()                 # Converting to lowercase\n",
        "    cleanr = re.compile('<.*?>')\n",
        "    sentence = re.sub(cleanr, ' ', sentence)        #Removing HTML tags\n",
        "    sentence = re.sub(r'[?|!|\\'|\"|#]',r'',sentence)\n",
        "    sentence = re.sub(r'[.|,|)|(|\\|/]',r' ',sentence)        #Removing Punctuations\n",
        "    \n",
        "    words = [snow.stem(word) for word in sentence.split() if word not in stopwords.words('english')]   # Stemming and removing stopwords\n",
        "    temp.append(words)\n",
        "    \n",
        "X_text_copy = temp    \n",
        "\n",
        "print(X_text_copy[0])\n"
      ],
      "execution_count": null,
      "outputs": [
        {
          "output_type": "stream",
          "text": [
            "  2%|▏         | 23/1052 [00:00<00:04, 218.77it/s]"
          ],
          "name": "stderr"
        },
        {
          "output_type": "stream",
          "text": [
            "[nltk_data] Downloading package stopwords to /root/nltk_data...\n",
            "[nltk_data]   Unzipping corpora/stopwords.zip.\n",
            "{'herself', 'a', 'shan', 'how', \"you'd\", 'down', 'that', 'does', 'such', 'wouldn', 'no', 'of', 'yourself', 'yours', 'didn', 'these', 'is', 'then', 'where', 'mustn', 'up', \"couldn't\", 'being', 'as', \"mustn't\", 'theirs', 'hadn', \"you're\", 'her', 'hers', 'those', 'for', 'couldn', \"needn't\", 't', 'do', 'over', 'because', 'weren', 'during', 'this', 'were', 'again', 'them', 'both', 'have', \"you'll\", 'by', 'was', 's', \"didn't\", 'aren', 'be', 'not', 'before', 'mightn', 'out', 'very', \"shouldn't\", \"that'll\", 'i', 'been', 'all', \"haven't\", 'some', 'himself', 'don', \"wouldn't\", 'what', 'who', 'am', 'which', 'won', 'd', 'your', 'doesn', \"hasn't\", 'below', 'whom', 'has', 'ma', 'o', \"you've\", 'further', 'haven', 'ours', 'while', 'she', 'him', 'under', \"hadn't\", 'each', 'll', 'needn', 'at', 'than', 'yourselves', 'with', 'here', 'only', 'myself', 'other', 'on', 'if', 'when', 'now', 'until', \"isn't\", 'nor', \"it's\", 'and', 'wasn', \"doesn't\", \"should've\", 'he', 'in', \"won't\", 'his', 'having', 'did', 'most', 'can', 'through', 'own', 'm', \"mightn't\", 'more', 'its', 'our', 'doing', 'about', 'between', 'into', 'hasn', 'are', 'off', 'should', 'there', 'same', 'against', 'but', 'once', \"she's\", 'will', \"shan't\", 'why', 'ourselves', 'we', 'their', 'few', 'any', \"aren't\", 'to', 'they', 'above', 'ain', 'so', \"weren't\", 'y', 're', 'too', 'the', \"wasn't\", 'or', 'itself', 'themselves', 'me', 've', 'my', 'just', \"don't\", 'isn', 'it', 'had', 'an', 'after', 'from', 'you', 'shouldn'}\n",
            "1052\n",
            "(1052,)\n",
            "0    Right... if this says \"based on a true story\" ...\n",
            "1    The guidance has changed significantly in the ...\n",
            "3    Anytime from Now, President Uhuru Kenyatta may...\n",
            "4    I couldn't upload this video it's not compatib...\n",
            "5    My failing local newspaper physically makes me...\n",
            "Name: Text, dtype: object\n",
            "<class 'pandas.core.series.Series'>\n"
          ],
          "name": "stdout"
        },
        {
          "output_type": "stream",
          "text": [
            "100%|██████████| 1052/1052 [00:05<00:00, 203.36it/s]"
          ],
          "name": "stderr"
        },
        {
          "output_type": "stream",
          "text": [
            "['right', 'say', 'base', 'true', 'stori', 'begin', 'eat', '5g', 'tower', 'next', 'film', 'go', '5g', 'zombi', 'vs', 'corona', 'zombi', 'https:', 'co', 'q6qz8gtdd3']\n"
          ],
          "name": "stdout"
        },
        {
          "output_type": "stream",
          "text": [
            "\n"
          ],
          "name": "stderr"
        }
      ]
    },
    {
      "cell_type": "code",
      "metadata": {
        "colab": {
          "base_uri": "https://localhost:8080/"
        },
        "id": "5KMY8xxwSbId",
        "outputId": "1510eb63-ff73-4e5f-9d36-a412b775fa7e"
      },
      "source": [
        "print(len(comments_text))\n",
        "print(len(X_text_copy))\n",
        "print(np.array(comments_text).shape)\n",
        "print(np.array(X_text_copy).shape)\n",
        "print(len(comments_text[0]))\n",
        "print(len(X_text_copy[0]))\n",
        "\n",
        "print(\"The vocabulary contains {} unique tokens\".format(len(vocab)))"
      ],
      "execution_count": null,
      "outputs": [
        {
          "output_type": "stream",
          "text": [
            "1052\n",
            "1052\n",
            "(1052,)\n",
            "(1052,)\n",
            "43\n",
            "20\n",
            "The vocabulary contains 9653 unique tokens\n"
          ],
          "name": "stdout"
        },
        {
          "output_type": "stream",
          "text": [
            "/usr/local/lib/python3.6/dist-packages/ipykernel_launcher.py:3: VisibleDeprecationWarning: Creating an ndarray from ragged nested sequences (which is a list-or-tuple of lists-or-tuples-or ndarrays with different lengths or shapes) is deprecated. If you meant to do this, you must specify 'dtype=object' when creating the ndarray\n",
            "  This is separate from the ipykernel package so we can avoid doing imports until\n",
            "/usr/local/lib/python3.6/dist-packages/ipykernel_launcher.py:4: VisibleDeprecationWarning: Creating an ndarray from ragged nested sequences (which is a list-or-tuple of lists-or-tuples-or ndarrays with different lengths or shapes) is deprecated. If you meant to do this, you must specify 'dtype=object' when creating the ndarray\n",
            "  after removing the cwd from sys.path.\n"
          ],
          "name": "stderr"
        }
      ]
    },
    {
      "cell_type": "code",
      "metadata": {
        "colab": {
          "base_uri": "https://localhost:8080/"
        },
        "id": "TPlkhON_SdwA",
        "outputId": "9d800b16-80fc-4208-c627-972b52523875"
      },
      "source": [
        "############################################     2.   Preparing Word vectors from Word2vec      #################################################\n",
        "comments_backup = comments_text\n",
        "comments_text = X_text_copy\n",
        "\n",
        "import gensim\n",
        "from gensim.models import Word2Vec\n",
        "model_text = Word2Vec(comments_backup, size=100, window=5, min_count=5, workers=16, sg=0, negative=5)\n",
        "word_vectors = model_text.wv\n",
        "print(\"Number of word vectors: {}\".format(len(word_vectors.vocab)))         ##\n",
        "\n",
        "#model_text.wv.most_similar_cosmul(positive=['woman', 'king'], negative=['man'])   #### Example"
      ],
      "execution_count": null,
      "outputs": [
        {
          "output_type": "stream",
          "text": [
            "Number of word vectors: 1122\n"
          ],
          "name": "stdout"
        }
      ]
    },
    {
      "cell_type": "code",
      "metadata": {
        "colab": {
          "base_uri": "https://localhost:8080/"
        },
        "id": "38OzM9dRSgHr",
        "outputId": "831eb146-24f9-4134-e69d-60584bf4436d"
      },
      "source": [
        "print(comments_backup[0])"
      ],
      "execution_count": null,
      "outputs": [
        {
          "output_type": "stream",
          "text": [
            "['right', '...', 'if', 'this', 'says', '\"', 'based', 'on', 'a', 'true', 'story', '\"', 'at', 'the', 'beginning', ',', 'i', 'will', 'eat', 'a', '5g', 'tower', '.', 'is', 'the', 'next', 'film', 'going', 'to', 'be', '5g', 'zombies', 'vs', 'corona', 'zombies', '?', 'https', '://', 't', '.', 'co', '/', 'q6qz8gtdd3']\n"
          ],
          "name": "stdout"
        }
      ]
    },
    {
      "cell_type": "code",
      "metadata": {
        "colab": {
          "base_uri": "https://localhost:8080/"
        },
        "id": "J5Whjy7nSkKR",
        "outputId": "b8288ccb-ade0-400e-e4b8-0f29e0fb8c30"
      },
      "source": [
        "############################################      3.   Prepare sequence matrix from vocab         ###############################################\n",
        "MAX_NB_WORDS = len(word_vectors.vocab)\n",
        "MAX_SEQUENCE_LENGTH = 200\n",
        "\n",
        "from keras.preprocessing.sequence import pad_sequences\n",
        "\n",
        "word_index = {t[0]: i+1 for i,t in enumerate(vocab.most_common(MAX_NB_WORDS))}    ##\n",
        "sequences_text = [[word_index.get(t, 0) for t in comment]\n",
        "             for comment in comments_backup[:len(X_text)]]  ##\n",
        "\n",
        "# pad\n",
        "training_data_text = pad_sequences(sequences_text, maxlen=MAX_SEQUENCE_LENGTH,    \n",
        "                     padding=\"pre\", truncating=\"post\")     ##\n",
        "# list_classes = [\"real\", \"fake\"]\n",
        "# y = train_df[list_classes].values\n",
        "y = np.array(labels)\n",
        "print('Shape of data tensor:', training_data_text.shape)\n",
        "print('Shape of label tensor:', y.shape)\n",
        "\n",
        "# test_data = pad_sequences(test_sequences, maxlen=MAX_SEQUENCE_LENGTH, padding=\"pre\",\n",
        "#                           truncating=\"post\")\n",
        "# print('Shape of test_data tensor:', test_data.shape)\n",
        "\n",
        "#print(training_data_text[0])"
      ],
      "execution_count": null,
      "outputs": [
        {
          "output_type": "stream",
          "text": [
            "Shape of data tensor: (1052, 200)\n",
            "Shape of label tensor: (1052,)\n"
          ],
          "name": "stdout"
        }
      ]
    },
    {
      "cell_type": "code",
      "metadata": {
        "id": "obdp4sjdSnbX"
      },
      "source": [
        "##########################################        4.   Prepare Text embedding vector for embedding layer in Bi-LSTM    #################################\n",
        "WV_DIM = 100\n",
        "nb_words_text = min(MAX_NB_WORDS, len(word_vectors.vocab))          ##\n",
        "# we initialize the matrix with random numbers\n",
        "wv_matrix_text = (np.random.rand(nb_words_text, WV_DIM) - 0.5) / 5.0     ##\n",
        "for word, i in word_index.items():\n",
        "    if i >= MAX_NB_WORDS:\n",
        "        continue\n",
        "    try:\n",
        "        embedding_vector = word_vectors[word]\n",
        "        # words not found in embedding index will be all-zeros.\n",
        "        wv_matrix_text[i] = embedding_vector\n",
        "    except:\n",
        "        pass      "
      ],
      "execution_count": null,
      "outputs": []
    },
    {
      "cell_type": "code",
      "metadata": {
        "colab": {
          "base_uri": "https://localhost:8080/"
        },
        "id": "cD9DGXUySqHl",
        "outputId": "efdfcd7d-9c03-4849-cd92-6b5b27b7dda4"
      },
      "source": [
        "print(type(training_data_text))\n",
        "training_data_text = np.array(training_data_text)\n",
        "print(type(training_data_text))\n",
        "print((training_data_text).shape)\n",
        "print(len(training_data_text))\n",
        "print(training_data_text[0])\n",
        "\n",
        "######################################################################################       Text Preprocessing ends    #########################################################################################"
      ],
      "execution_count": null,
      "outputs": [
        {
          "output_type": "stream",
          "text": [
            "<class 'numpy.ndarray'>\n",
            "<class 'numpy.ndarray'>\n",
            "(1052, 200)\n",
            "1052\n",
            "[  0   0   0   0   0   0   0   0   0   0   0   0   0   0   0   0   0   0\n",
            "   0   0   0   0   0   0   0   0   0   0   0   0   0   0   0   0   0   0\n",
            "   0   0   0   0   0   0   0   0   0   0   0   0   0   0   0   0   0   0\n",
            "   0   0   0   0   0   0   0   0   0   0   0   0   0   0   0   0   0   0\n",
            "   0   0   0   0   0   0   0   0   0   0   0   0   0   0   0   0   0   0\n",
            "   0   0   0   0   0   0   0   0   0   0   0   0   0   0   0   0   0   0\n",
            "   0   0   0   0   0   0   0   0   0   0   0   0   0   0   0   0   0   0\n",
            "   0   0   0   0   0   0   0   0   0   0   0   0   0   0   0   0   0   0\n",
            "   0   0   0   0   0   0   0   0   0   0   0   0   0 183  76  73  24 200\n",
            "  45 613  20  16 316 444  45  48   2 780   9  32  57   0  16  13 341   1\n",
            "  17   2 406   0 132  10  38  13   0 930  89   0  33   8   7   3   1   6\n",
            "   5   0]\n"
          ],
          "name": "stdout"
        }
      ]
    },
    {
      "cell_type": "code",
      "metadata": {
        "colab": {
          "base_uri": "https://localhost:8080/"
        },
        "id": "EJKT5TnpStKI",
        "outputId": "76d69ba1-4e79-4f51-b688-aabf5fdeff6b"
      },
      "source": [
        "##################################################################################      Reading and preprocessing Title      ##############################################################################\n",
        "import numpy as np                                  \n",
        "import pandas as pd                                 \n",
        "import nltk       \n",
        "import gensim                                  \n",
        "\n",
        "X_title = data.Title\n",
        "\n",
        "#X1,X2,Y1,Y2 = train_test_split(X_text,y_text,test_size=0.30)\n",
        "X_title = X_title.astype(str)\n",
        "\n",
        "comments_title = X_title\n",
        "###################   1. Tokenisation  #########################\n",
        "from keras.preprocessing.text import Tokenizer\n",
        "max_words = 1000\n",
        "max_len = 300\n",
        "tok = Tokenizer(num_words=max_words)\n",
        "tok.fit_on_texts(comments_title)\n",
        "sequences_2 = tok.texts_to_sequences(comments_title) ###### name training_data_title\n",
        "training_data_title = sequence.pad_sequences(sequences_2,maxlen=max_len)\n",
        "\n",
        "\n",
        "print(type(training_data_title))\n",
        "training_data_title = np.array(training_data_title)\n",
        "print(type(training_data_title))\n",
        "print((training_data_title).shape)\n",
        "print(len(training_data_title))\n",
        "print(training_data_title[0])\n",
        "\n",
        "###########################################################################################         Title Preprocessing Ends          ################################################################################"
      ],
      "execution_count": null,
      "outputs": [
        {
          "output_type": "stream",
          "text": [
            "<class 'numpy.ndarray'>\n",
            "<class 'numpy.ndarray'>\n",
            "(1052, 300)\n",
            "1052\n",
            "[  0   0   0   0   0   0   0   0   0   0   0   0   0   0   0   0   0   0\n",
            "   0   0   0   0   0   0   0   0   0   0   0   0   0   0   0   0   0   0\n",
            "   0   0   0   0   0   0   0   0   0   0   0   0   0   0   0   0   0   0\n",
            "   0   0   0   0   0   0   0   0   0   0   0   0   0   0   0   0   0   0\n",
            "   0   0   0   0   0   0   0   0   0   0   0   0   0   0   0   0   0   0\n",
            "   0   0   0   0   0   0   0   0   0   0   0   0   0   0   0   0   0   0\n",
            "   0   0   0   0   0   0   0   0   0   0   0   0   0   0   0   0   0   0\n",
            "   0   0   0   0   0   0   0   0   0   0   0   0   0   0   0   0   0   0\n",
            "   0   0   0   0   0   0   0   0   0   0   0   0   0   0   0   0   0   0\n",
            "   0   0   0   0   0   0   0   0   0   0   0   0   0   0   0   0   0   0\n",
            "   0   0   0   0   0   0   0   0   0   0   0   0   0   0   0   0   0   0\n",
            "   0   0   0   0   0   0   0   0   0   0   0   0   0   0   0   0   0   0\n",
            "   0   0   0   0   0   0   0   0   0   0   0   0   0   0   0   0   0   0\n",
            "   0   0   0   0   0   0   0   0   0   0   0   0   0   0   0   0   0   0\n",
            "   0   0   0   0   0   0   0   0   0   0   0   0   0   0   0   0   0   0\n",
            "   0 158  51  14 167 552  13  10 276 387  31   1 722  19  39  10   7 320\n",
            "  11   1 388 106   5  23   7 866  65   4   2   3]\n"
          ],
          "name": "stdout"
        }
      ]
    },
    {
      "cell_type": "code",
      "metadata": {
        "colab": {
          "base_uri": "https://localhost:8080/"
        },
        "id": "R8KL1HJkSwkf",
        "outputId": "613e16cb-7edd-4022-b31d-bbcff6c7ce93"
      },
      "source": [
        "print(comments_title[0])"
      ],
      "execution_count": null,
      "outputs": [
        {
          "output_type": "stream",
          "text": [
            "Right... if this says \"based on a true story\" at the beginning, I will EAT a 5G tower. Is the next film going to be 5G Zombies Vs Corona Zombies? https://t.co/Q6Qz8GTDd3\n"
          ],
          "name": "stdout"
        }
      ]
    },
    {
      "cell_type": "code",
      "metadata": {
        "colab": {
          "base_uri": "https://localhost:8080/"
        },
        "id": "nHXkhpsISzgT",
        "outputId": "9d75b550-4900-4f3d-b7b7-26e21adb5bb2"
      },
      "source": [
        "#####################################################################################        Final Train and Test set             ##########################################################################\n",
        "\n",
        "fin_X = []\n",
        "\n",
        "total_data = len(training_data_text)\n",
        "for i in range(len(data)):\n",
        "  fin_X.append([X_img[i], training_data_text[i], training_data_title[i]])\n",
        "\n",
        "\n",
        "print(len(fin_X))\n",
        "print(np.array(fin_X).shape)\n",
        "print(labels[0:5])\n",
        "# print(fin_X[0])"
      ],
      "execution_count": null,
      "outputs": [
        {
          "output_type": "stream",
          "text": [
            "1052\n",
            "(1052, 3)\n",
            "[1, 1, 1, 0, 1]\n"
          ],
          "name": "stdout"
        },
        {
          "output_type": "stream",
          "text": [
            "/usr/local/lib/python3.6/dist-packages/ipykernel_launcher.py:11: VisibleDeprecationWarning: Creating an ndarray from ragged nested sequences (which is a list-or-tuple of lists-or-tuples-or ndarrays with different lengths or shapes) is deprecated. If you meant to do this, you must specify 'dtype=object' when creating the ndarray\n",
            "  # This is added back by InteractiveShellApp.init_path()\n"
          ],
          "name": "stderr"
        }
      ]
    },
    {
      "cell_type": "code",
      "metadata": {
        "colab": {
          "base_uri": "https://localhost:8080/"
        },
        "id": "Y7thh817S2Fp",
        "outputId": "90ed36f5-b0c8-4994-a466-aa2c15c991e7"
      },
      "source": [
        "print(type(fin_X))\n",
        "print(np.array(fin_X[0]).shape)\n",
        "print(len(fin_X))\n",
        "print(fin_X[0][0])\n",
        "print(\"Hello\")\n",
        "print(fin_X[0][1])\n",
        "print(\"Hello\")\n",
        "print(fin_X[0][2])\n",
        "# print(\"Hello\")\n",
        "# print(fin_X[0][1])\n",
        "# print(\"Hello\")\n",
        "# print(fin_X[0][2])"
      ],
      "execution_count": null,
      "outputs": [
        {
          "output_type": "stream",
          "text": [
            "<class 'list'>\n",
            "(3,)\n",
            "1052\n",
            "[[[0.59215686 0.61176471 0.64313725]\n",
            "  [0.63529412 0.64705882 0.67843137]\n",
            "  [0.63137255 0.64705882 0.66666667]\n",
            "  ...\n",
            "  [0.08235294 0.05098039 0.05490196]\n",
            "  [0.23529412 0.18039216 0.18823529]\n",
            "  [0.26666667 0.21176471 0.21960784]]\n",
            "\n",
            " [[0.63529412 0.64313725 0.67843137]\n",
            "  [0.64313725 0.66666667 0.69411765]\n",
            "  [0.63529412 0.65098039 0.67058824]\n",
            "  ...\n",
            "  [0.09803922 0.05098039 0.05882353]\n",
            "  [0.18431373 0.12156863 0.13333333]\n",
            "  [0.23137255 0.16470588 0.17647059]]\n",
            "\n",
            " [[0.62745098 0.63529412 0.67058824]\n",
            "  [0.63921569 0.66666667 0.69019608]\n",
            "  [0.62745098 0.65098039 0.67058824]\n",
            "  ...\n",
            "  [0.1254902  0.0745098  0.08235294]\n",
            "  [0.16862745 0.11372549 0.12156863]\n",
            "  [0.20784314 0.15686275 0.16470588]]\n",
            "\n",
            " ...\n",
            "\n",
            " [[0.85882353 0.87058824 0.86666667]\n",
            "  [0.90196078 0.90980392 0.78431373]\n",
            "  [0.91764706 0.92941176 0.8       ]\n",
            "  ...\n",
            "  [0.91372549 0.94509804 0.78039216]\n",
            "  [0.91764706 0.95294118 0.78039216]\n",
            "  [0.89411765 0.90588235 0.79607843]]\n",
            "\n",
            " [[0.83921569 0.85490196 0.86666667]\n",
            "  [0.90980392 0.92156863 0.79215686]\n",
            "  [0.9254902  0.94117647 0.79607843]\n",
            "  ...\n",
            "  [0.91764706 0.94901961 0.76470588]\n",
            "  [0.91372549 0.94509804 0.76078431]\n",
            "  [0.89019608 0.90196078 0.77254902]]\n",
            "\n",
            " [[0.82745098 0.85490196 0.8745098 ]\n",
            "  [0.90588235 0.92156863 0.78431373]\n",
            "  [0.92941176 0.9372549  0.77254902]\n",
            "  ...\n",
            "  [0.90196078 0.93333333 0.74901961]\n",
            "  [0.90588235 0.93333333 0.75686275]\n",
            "  [0.89019608 0.90588235 0.76862745]]]\n",
            "Hello\n",
            "[  0   0   0   0   0   0   0   0   0   0   0   0   0   0   0   0   0   0\n",
            "   0   0   0   0   0   0   0   0   0   0   0   0   0   0   0   0   0   0\n",
            "   0   0   0   0   0   0   0   0   0   0   0   0   0   0   0   0   0   0\n",
            "   0   0   0   0   0   0   0   0   0   0   0   0   0   0   0   0   0   0\n",
            "   0   0   0   0   0   0   0   0   0   0   0   0   0   0   0   0   0   0\n",
            "   0   0   0   0   0   0   0   0   0   0   0   0   0   0   0   0   0   0\n",
            "   0   0   0   0   0   0   0   0   0   0   0   0   0   0   0   0   0   0\n",
            "   0   0   0   0   0   0   0   0   0   0   0   0   0   0   0   0   0   0\n",
            "   0   0   0   0   0   0   0   0   0   0   0   0   0 183  76  73  24 200\n",
            "  45 613  20  16 316 444  45  48   2 780   9  32  57   0  16  13 341   1\n",
            "  17   2 406   0 132  10  38  13   0 930  89   0  33   8   7   3   1   6\n",
            "   5   0]\n",
            "Hello\n",
            "[  0   0   0   0   0   0   0   0   0   0   0   0   0   0   0   0   0   0\n",
            "   0   0   0   0   0   0   0   0   0   0   0   0   0   0   0   0   0   0\n",
            "   0   0   0   0   0   0   0   0   0   0   0   0   0   0   0   0   0   0\n",
            "   0   0   0   0   0   0   0   0   0   0   0   0   0   0   0   0   0   0\n",
            "   0   0   0   0   0   0   0   0   0   0   0   0   0   0   0   0   0   0\n",
            "   0   0   0   0   0   0   0   0   0   0   0   0   0   0   0   0   0   0\n",
            "   0   0   0   0   0   0   0   0   0   0   0   0   0   0   0   0   0   0\n",
            "   0   0   0   0   0   0   0   0   0   0   0   0   0   0   0   0   0   0\n",
            "   0   0   0   0   0   0   0   0   0   0   0   0   0   0   0   0   0   0\n",
            "   0   0   0   0   0   0   0   0   0   0   0   0   0   0   0   0   0   0\n",
            "   0   0   0   0   0   0   0   0   0   0   0   0   0   0   0   0   0   0\n",
            "   0   0   0   0   0   0   0   0   0   0   0   0   0   0   0   0   0   0\n",
            "   0   0   0   0   0   0   0   0   0   0   0   0   0   0   0   0   0   0\n",
            "   0   0   0   0   0   0   0   0   0   0   0   0   0   0   0   0   0   0\n",
            "   0   0   0   0   0   0   0   0   0   0   0   0   0   0   0   0   0   0\n",
            "   0 158  51  14 167 552  13  10 276 387  31   1 722  19  39  10   7 320\n",
            "  11   1 388 106   5  23   7 866  65   4   2   3]\n"
          ],
          "name": "stdout"
        },
        {
          "output_type": "stream",
          "text": [
            "/usr/local/lib/python3.6/dist-packages/ipykernel_launcher.py:2: VisibleDeprecationWarning: Creating an ndarray from ragged nested sequences (which is a list-or-tuple of lists-or-tuples-or ndarrays with different lengths or shapes) is deprecated. If you meant to do this, you must specify 'dtype=object' when creating the ndarray\n",
            "  \n"
          ],
          "name": "stderr"
        }
      ]
    },
    {
      "cell_type": "code",
      "metadata": {
        "id": "cY1l2RPMS4qc"
      },
      "source": [
        "###########################################################################################     Splitting final set to train and test     ###########################################################\n",
        "\n",
        "from sklearn.model_selection import train_test_split\n",
        "X_train_val,X_test,Y_train_val,Y_test = train_test_split(fin_X,labels,test_size=0.20)\n"
      ],
      "execution_count": null,
      "outputs": []
    },
    {
      "cell_type": "code",
      "metadata": {
        "id": "-qkpO7TqS8RP"
      },
      "source": [
        "\n",
        "from sklearn.model_selection import train_test_split\n",
        "X_train,X_val,Y_train,Y_val = train_test_split(X_train_val,Y_train_val,test_size=0.25)\n"
      ],
      "execution_count": null,
      "outputs": []
    },
    {
      "cell_type": "code",
      "metadata": {
        "colab": {
          "base_uri": "https://localhost:8080/"
        },
        "id": "75-v3rfaS-15",
        "outputId": "9ee9c909-a16e-4e8c-c55c-0443f00467b8"
      },
      "source": [
        "print(\"<-------X_train------>\")\n",
        "print(type(X_train))\n",
        "print(np.array(X_train).shape)\n",
        "print(np.array(X_train[0]).shape)\n",
        "print(np.array(X_train[0][0]).shape)\n",
        "print(np.array(X_train[0][1]).shape)\n",
        "print(len(X_train))\n",
        "print(type(X_train))\n",
        "print(type(X_train[0]))\n",
        "print(type(X_train[0][0]))\n",
        "print(type(X_train[0][1]))\n",
        "print(\"<-------Y_train------>\")\n",
        "print(type(Y_train))\n",
        "print(type(Y_train[0]))\n",
        "print((Y_train[0]))\n",
        "print(\"<-------X_test------>\")\n",
        "print(type(X_test[0][0]))\n",
        "print(\"<-------Y_test------>\")\n",
        "print(type(Y_test))\n",
        "print(np.array(Y_train).shape)\n",
        "print(len(Y_train))\n",
        "\n",
        "print(type(X_train_val))\n",
        "print(type(X_train))\n",
        "print(type(X_val))\n",
        "print(type(X_test))\n",
        "print(\"\\n\")\n",
        "\n",
        "print(len(X_train_val))\n",
        "print(len(X_train))\n",
        "print(len(X_val))\n",
        "print(len(X_test))"
      ],
      "execution_count": null,
      "outputs": [
        {
          "output_type": "stream",
          "text": [
            "<-------X_train------>\n",
            "<class 'list'>\n",
            "(630, 3)\n",
            "(3,)\n",
            "(128, 128, 3)\n",
            "(200,)\n",
            "630\n",
            "<class 'list'>\n",
            "<class 'list'>\n",
            "<class 'numpy.ndarray'>\n",
            "<class 'numpy.ndarray'>\n",
            "<-------Y_train------>\n",
            "<class 'list'>\n",
            "<class 'numpy.int64'>\n",
            "1\n",
            "<-------X_test------>\n",
            "<class 'numpy.ndarray'>\n",
            "<-------Y_test------>\n",
            "<class 'list'>\n",
            "(630,)\n",
            "630\n",
            "<class 'list'>\n",
            "<class 'list'>\n",
            "<class 'list'>\n",
            "<class 'list'>\n",
            "\n",
            "\n",
            "841\n",
            "630\n",
            "211\n",
            "211\n"
          ],
          "name": "stdout"
        },
        {
          "output_type": "stream",
          "text": [
            "/usr/local/lib/python3.6/dist-packages/ipykernel_launcher.py:3: VisibleDeprecationWarning: Creating an ndarray from ragged nested sequences (which is a list-or-tuple of lists-or-tuples-or ndarrays with different lengths or shapes) is deprecated. If you meant to do this, you must specify 'dtype=object' when creating the ndarray\n",
            "  This is separate from the ipykernel package so we can avoid doing imports until\n",
            "/usr/local/lib/python3.6/dist-packages/ipykernel_launcher.py:4: VisibleDeprecationWarning: Creating an ndarray from ragged nested sequences (which is a list-or-tuple of lists-or-tuples-or ndarrays with different lengths or shapes) is deprecated. If you meant to do this, you must specify 'dtype=object' when creating the ndarray\n",
            "  after removing the cwd from sys.path.\n"
          ],
          "name": "stderr"
        }
      ]
    },
    {
      "cell_type": "code",
      "metadata": {
        "id": "azDkboCHTBIp"
      },
      "source": [
        "################################################################     Extracting image data from final train and test dataset     #######################################\n",
        "X_train_img = []\n",
        "X_test_img = []\n",
        "X_val_img = []\n",
        "\n",
        "for i in range(len(X_train)):\n",
        "  temp1 = X_train[i][0].tolist()\n",
        "  X_train_img.append(temp1)\n",
        "  \n",
        "for i in range(len(X_test)):\n",
        "  temp1 = X_test[i][0].tolist()\n",
        "  X_test_img.append(temp1)\n",
        "\n",
        "for i in range(len(X_val)):\n",
        "  temp1 = X_val[i][0].tolist()\n",
        "  X_val_img.append(temp1)"
      ],
      "execution_count": null,
      "outputs": []
    },
    {
      "cell_type": "code",
      "metadata": {
        "colab": {
          "base_uri": "https://localhost:8080/"
        },
        "id": "gsuwGJjXTELM",
        "outputId": "1c1bd1c5-b013-4401-ce03-5e8a9595f535"
      },
      "source": [
        "print(\"<-------X train------->\")\n",
        "print(type(X_train_img))\n",
        "X_train_img = np.array(X_train_img)\n",
        "print(type(X_train_img))\n",
        "print(np.array(X_train_img).shape)\n",
        "print(len(X_train_img))\n",
        "print(\"<-------X test------->\")\n",
        "print(type(X_test_img))\n",
        "X_test_img = np.array(X_test_img)\n",
        "print(type(X_test_img))\n",
        "print(np.array(X_test_img).shape)\n",
        "print(len(X_test_img))\n",
        "print(\"<-------X val------->\")\n",
        "print(type(X_val_img))\n",
        "X_val_img = np.array(X_val_img)\n",
        "print(type(X_val_img))\n",
        "print(np.array(X_val_img).shape)\n",
        "print(len(X_val_img))\n",
        "print(\"<-------Y train------->\")\n",
        "print(type(Y_train))\n",
        "Y_train = np.array(Y_train)\n",
        "print(type(Y_train))\n",
        "print(np.array(Y_train).shape)\n",
        "print(len(Y_train))\n",
        "print(\"<-------Y test------->\")\n",
        "print(type(Y_test))\n",
        "Y_test = np.array(Y_test)\n",
        "print(type(Y_test))\n",
        "print(np.array(Y_test).shape)\n",
        "print(len(Y_test))\n",
        "print(\"<-------Y val------->\")\n",
        "print(type(Y_val))\n",
        "Y_val = np.array(Y_val)\n",
        "print(type(Y_val))\n",
        "print(np.array(Y_val).shape)\n",
        "print(len(Y_val))"
      ],
      "execution_count": null,
      "outputs": [
        {
          "output_type": "stream",
          "text": [
            "<-------X train------->\n",
            "<class 'list'>\n",
            "<class 'numpy.ndarray'>\n",
            "(630, 128, 128, 3)\n",
            "630\n",
            "<-------X test------->\n",
            "<class 'list'>\n",
            "<class 'numpy.ndarray'>\n",
            "(211, 128, 128, 3)\n",
            "211\n",
            "<-------X val------->\n",
            "<class 'list'>\n",
            "<class 'numpy.ndarray'>\n",
            "(211, 128, 128, 3)\n",
            "211\n",
            "<-------Y train------->\n",
            "<class 'list'>\n",
            "<class 'numpy.ndarray'>\n",
            "(630,)\n",
            "630\n",
            "<-------Y test------->\n",
            "<class 'list'>\n",
            "<class 'numpy.ndarray'>\n",
            "(211,)\n",
            "211\n",
            "<-------Y val------->\n",
            "<class 'list'>\n",
            "<class 'numpy.ndarray'>\n",
            "(211,)\n",
            "211\n"
          ],
          "name": "stdout"
        }
      ]
    },
    {
      "cell_type": "code",
      "metadata": {
        "id": "n3SiH7MATaj9"
      },
      "source": [
        "#######################################################################   Extracting Title from final dataset  ###############################################################\n",
        "X_train_title = []\n",
        "X_val_title = []\n",
        "X_test_title = []\n",
        "\n",
        "for i in range(len(X_train)):\n",
        "  temp1 = X_train[i][2].tolist()\n",
        "  X_train_title.append(temp1)\n",
        "  \n",
        "for i in range(len(X_val)):\n",
        "  temp1 = X_val[i][2].tolist()\n",
        "  X_val_title.append(temp1)\n",
        "\n",
        "for i in range(len(X_test)):\n",
        "  temp1 = X_test[i][2].tolist()\n",
        "  X_test_title.append(temp1)"
      ],
      "execution_count": null,
      "outputs": []
    },
    {
      "cell_type": "code",
      "metadata": {
        "colab": {
          "base_uri": "https://localhost:8080/"
        },
        "id": "JvQqkpz5Tbci",
        "outputId": "b9393a23-bf64-4853-bf69-c3cc0a4b2513"
      },
      "source": [
        "print(\"<-------X train------->\")\n",
        "print(type(X_train_title))\n",
        "X_train_title = np.array(X_train_title)\n",
        "print(type(X_train_title))\n",
        "print(np.array(X_train_title).shape)\n",
        "print(len(X_train_title))\n",
        "print(\"<-------X test------->\")\n",
        "print(type(X_test_title))\n",
        "X_test_title = np.array(X_test_title)\n",
        "print(type(X_test_title))\n",
        "print(np.array(X_test_title).shape)\n",
        "print(len(X_test_title))\n",
        "print(\"<-------X val------->\")\n",
        "print(type(X_val_title))\n",
        "X_val_title = np.array(X_val_title)\n",
        "print(type(X_val_title))\n",
        "print(np.array(X_val_title).shape)\n",
        "print(len(X_val_title))\n",
        "print(\"\\n\")\n",
        "print(\"<-------Y train------->\")\n",
        "print(type(Y_train))\n",
        "Y_train = np.array(Y_train)\n",
        "print(type(Y_train))\n",
        "print(np.array(Y_train).shape)\n",
        "print(len(Y_train))\n",
        "print(\"<-------Y test------->\")\n",
        "print(type(Y_test))\n",
        "Y_test = np.array(Y_test)\n",
        "print(type(Y_test))\n",
        "print(np.array(Y_test).shape)\n",
        "print(len(Y_test))\n",
        "print(\"<-------Y val------->\")\n",
        "print(type(Y_val))\n",
        "Y_val = np.array(Y_val)\n",
        "print(type(Y_val))\n",
        "print(np.array(Y_val).shape)\n",
        "print(len(Y_val))"
      ],
      "execution_count": null,
      "outputs": [
        {
          "output_type": "stream",
          "text": [
            "<-------X train------->\n",
            "<class 'list'>\n",
            "<class 'numpy.ndarray'>\n",
            "(630, 300)\n",
            "630\n",
            "<-------X test------->\n",
            "<class 'list'>\n",
            "<class 'numpy.ndarray'>\n",
            "(211, 300)\n",
            "211\n",
            "<-------X val------->\n",
            "<class 'list'>\n",
            "<class 'numpy.ndarray'>\n",
            "(211, 300)\n",
            "211\n",
            "\n",
            "\n",
            "<-------Y train------->\n",
            "<class 'numpy.ndarray'>\n",
            "<class 'numpy.ndarray'>\n",
            "(630,)\n",
            "630\n",
            "<-------Y test------->\n",
            "<class 'numpy.ndarray'>\n",
            "<class 'numpy.ndarray'>\n",
            "(211,)\n",
            "211\n",
            "<-------Y val------->\n",
            "<class 'numpy.ndarray'>\n",
            "<class 'numpy.ndarray'>\n",
            "(211,)\n",
            "211\n"
          ],
          "name": "stdout"
        }
      ]
    },
    {
      "cell_type": "code",
      "metadata": {
        "id": "GZMSPXwxwfoc"
      },
      "source": [
        ""
      ],
      "execution_count": null,
      "outputs": []
    },
    {
      "cell_type": "markdown",
      "metadata": {
        "id": "r3elcTCZwhwG"
      },
      "source": [
        "# Model"
      ]
    },
    {
      "cell_type": "code",
      "metadata": {
        "colab": {
          "base_uri": "https://localhost:8080/",
          "height": 1000
        },
        "id": "QM2jd48dTGzM",
        "outputId": "93afa2cb-1e26-4422-cdcc-8130ef231971"
      },
      "source": [
        "############################################################################################    VGG16  Model   ###########################################################################\n",
        "from keras.applications import vgg16\n",
        "from keras.models import Model\n",
        "import keras\n",
        "\n",
        "input_shape = (IMG_SIZE, IMG_SIZE, 3)    \n",
        "\n",
        "vgg = vgg16.VGG16(include_top=False, weights='imagenet', input_shape=input_shape)\n",
        "\n",
        "output = vgg.layers[-1].output\n",
        "output = keras.layers.Flatten()(output)\n",
        "vgg_model = Model(vgg.input, output)\n",
        "\n",
        "\n",
        "###############  Without fine tuning\n",
        "vgg_model.trainable = False                \n",
        "for layer in vgg_model.layers:\n",
        "    layer.trainable = False\n",
        "\n",
        "\n",
        "import pandas as pd\n",
        "pd.set_option('max_colwidth', -1)\n",
        "layers = [(layer, layer.name, layer.trainable) for layer in vgg_model.layers]\n",
        "pd.DataFrame(layers, columns=['Layer Type', 'Layer Name', 'Layer Trainable'])      "
      ],
      "execution_count": null,
      "outputs": [
        {
          "output_type": "stream",
          "text": [
            "/usr/local/lib/python3.6/dist-packages/ipykernel_launcher.py:22: FutureWarning: Passing a negative integer is deprecated in version 1.0 and will not be supported in future version. Instead, use None to not limit the column width.\n"
          ],
          "name": "stderr"
        },
        {
          "output_type": "execute_result",
          "data": {
            "text/html": [
              "<div>\n",
              "<style scoped>\n",
              "    .dataframe tbody tr th:only-of-type {\n",
              "        vertical-align: middle;\n",
              "    }\n",
              "\n",
              "    .dataframe tbody tr th {\n",
              "        vertical-align: top;\n",
              "    }\n",
              "\n",
              "    .dataframe thead th {\n",
              "        text-align: right;\n",
              "    }\n",
              "</style>\n",
              "<table border=\"1\" class=\"dataframe\">\n",
              "  <thead>\n",
              "    <tr style=\"text-align: right;\">\n",
              "      <th></th>\n",
              "      <th>Layer Type</th>\n",
              "      <th>Layer Name</th>\n",
              "      <th>Layer Trainable</th>\n",
              "    </tr>\n",
              "  </thead>\n",
              "  <tbody>\n",
              "    <tr>\n",
              "      <th>0</th>\n",
              "      <td>&lt;tensorflow.python.keras.engine.input_layer.InputLayer object at 0x7f9740e15eb8&gt;</td>\n",
              "      <td>input_15</td>\n",
              "      <td>False</td>\n",
              "    </tr>\n",
              "    <tr>\n",
              "      <th>1</th>\n",
              "      <td>&lt;tensorflow.python.keras.layers.convolutional.Conv2D object at 0x7f973ef27588&gt;</td>\n",
              "      <td>block1_conv1</td>\n",
              "      <td>False</td>\n",
              "    </tr>\n",
              "    <tr>\n",
              "      <th>2</th>\n",
              "      <td>&lt;tensorflow.python.keras.layers.convolutional.Conv2D object at 0x7f97438487b8&gt;</td>\n",
              "      <td>block1_conv2</td>\n",
              "      <td>False</td>\n",
              "    </tr>\n",
              "    <tr>\n",
              "      <th>3</th>\n",
              "      <td>&lt;tensorflow.python.keras.layers.pooling.MaxPooling2D object at 0x7f973db49780&gt;</td>\n",
              "      <td>block1_pool</td>\n",
              "      <td>False</td>\n",
              "    </tr>\n",
              "    <tr>\n",
              "      <th>4</th>\n",
              "      <td>&lt;tensorflow.python.keras.layers.convolutional.Conv2D object at 0x7f973b90ff98&gt;</td>\n",
              "      <td>block2_conv1</td>\n",
              "      <td>False</td>\n",
              "    </tr>\n",
              "    <tr>\n",
              "      <th>5</th>\n",
              "      <td>&lt;tensorflow.python.keras.layers.convolutional.Conv2D object at 0x7f973e513748&gt;</td>\n",
              "      <td>block2_conv2</td>\n",
              "      <td>False</td>\n",
              "    </tr>\n",
              "    <tr>\n",
              "      <th>6</th>\n",
              "      <td>&lt;tensorflow.python.keras.layers.pooling.MaxPooling2D object at 0x7f973f5f1198&gt;</td>\n",
              "      <td>block2_pool</td>\n",
              "      <td>False</td>\n",
              "    </tr>\n",
              "    <tr>\n",
              "      <th>7</th>\n",
              "      <td>&lt;tensorflow.python.keras.layers.convolutional.Conv2D object at 0x7f973f5fb128&gt;</td>\n",
              "      <td>block3_conv1</td>\n",
              "      <td>False</td>\n",
              "    </tr>\n",
              "    <tr>\n",
              "      <th>8</th>\n",
              "      <td>&lt;tensorflow.python.keras.layers.convolutional.Conv2D object at 0x7f973f1f1a90&gt;</td>\n",
              "      <td>block3_conv2</td>\n",
              "      <td>False</td>\n",
              "    </tr>\n",
              "    <tr>\n",
              "      <th>9</th>\n",
              "      <td>&lt;tensorflow.python.keras.layers.convolutional.Conv2D object at 0x7f973f599da0&gt;</td>\n",
              "      <td>block3_conv3</td>\n",
              "      <td>False</td>\n",
              "    </tr>\n",
              "    <tr>\n",
              "      <th>10</th>\n",
              "      <td>&lt;tensorflow.python.keras.layers.pooling.MaxPooling2D object at 0x7f973d93d588&gt;</td>\n",
              "      <td>block3_pool</td>\n",
              "      <td>False</td>\n",
              "    </tr>\n",
              "    <tr>\n",
              "      <th>11</th>\n",
              "      <td>&lt;tensorflow.python.keras.layers.convolutional.Conv2D object at 0x7f9746fe68d0&gt;</td>\n",
              "      <td>block4_conv1</td>\n",
              "      <td>False</td>\n",
              "    </tr>\n",
              "    <tr>\n",
              "      <th>12</th>\n",
              "      <td>&lt;tensorflow.python.keras.layers.convolutional.Conv2D object at 0x7f973f5b4d68&gt;</td>\n",
              "      <td>block4_conv2</td>\n",
              "      <td>False</td>\n",
              "    </tr>\n",
              "    <tr>\n",
              "      <th>13</th>\n",
              "      <td>&lt;tensorflow.python.keras.layers.convolutional.Conv2D object at 0x7f9746e59860&gt;</td>\n",
              "      <td>block4_conv3</td>\n",
              "      <td>False</td>\n",
              "    </tr>\n",
              "    <tr>\n",
              "      <th>14</th>\n",
              "      <td>&lt;tensorflow.python.keras.layers.pooling.MaxPooling2D object at 0x7f973e5e5d30&gt;</td>\n",
              "      <td>block4_pool</td>\n",
              "      <td>False</td>\n",
              "    </tr>\n",
              "    <tr>\n",
              "      <th>15</th>\n",
              "      <td>&lt;tensorflow.python.keras.layers.convolutional.Conv2D object at 0x7f9744b20828&gt;</td>\n",
              "      <td>block5_conv1</td>\n",
              "      <td>False</td>\n",
              "    </tr>\n",
              "    <tr>\n",
              "      <th>16</th>\n",
              "      <td>&lt;tensorflow.python.keras.layers.convolutional.Conv2D object at 0x7f973f62b390&gt;</td>\n",
              "      <td>block5_conv2</td>\n",
              "      <td>False</td>\n",
              "    </tr>\n",
              "    <tr>\n",
              "      <th>17</th>\n",
              "      <td>&lt;tensorflow.python.keras.layers.convolutional.Conv2D object at 0x7f973f62bba8&gt;</td>\n",
              "      <td>block5_conv3</td>\n",
              "      <td>False</td>\n",
              "    </tr>\n",
              "    <tr>\n",
              "      <th>18</th>\n",
              "      <td>&lt;tensorflow.python.keras.layers.pooling.MaxPooling2D object at 0x7f973e5132b0&gt;</td>\n",
              "      <td>block5_pool</td>\n",
              "      <td>False</td>\n",
              "    </tr>\n",
              "    <tr>\n",
              "      <th>19</th>\n",
              "      <td>&lt;tensorflow.python.keras.layers.core.Flatten object at 0x7f9740a60780&gt;</td>\n",
              "      <td>flatten_21</td>\n",
              "      <td>False</td>\n",
              "    </tr>\n",
              "  </tbody>\n",
              "</table>\n",
              "</div>"
            ],
            "text/plain": [
              "                                                                          Layer Type  ... Layer Trainable\n",
              "0   <tensorflow.python.keras.engine.input_layer.InputLayer object at 0x7f9740e15eb8>  ...  False         \n",
              "1   <tensorflow.python.keras.layers.convolutional.Conv2D object at 0x7f973ef27588>    ...  False         \n",
              "2   <tensorflow.python.keras.layers.convolutional.Conv2D object at 0x7f97438487b8>    ...  False         \n",
              "3   <tensorflow.python.keras.layers.pooling.MaxPooling2D object at 0x7f973db49780>    ...  False         \n",
              "4   <tensorflow.python.keras.layers.convolutional.Conv2D object at 0x7f973b90ff98>    ...  False         \n",
              "5   <tensorflow.python.keras.layers.convolutional.Conv2D object at 0x7f973e513748>    ...  False         \n",
              "6   <tensorflow.python.keras.layers.pooling.MaxPooling2D object at 0x7f973f5f1198>    ...  False         \n",
              "7   <tensorflow.python.keras.layers.convolutional.Conv2D object at 0x7f973f5fb128>    ...  False         \n",
              "8   <tensorflow.python.keras.layers.convolutional.Conv2D object at 0x7f973f1f1a90>    ...  False         \n",
              "9   <tensorflow.python.keras.layers.convolutional.Conv2D object at 0x7f973f599da0>    ...  False         \n",
              "10  <tensorflow.python.keras.layers.pooling.MaxPooling2D object at 0x7f973d93d588>    ...  False         \n",
              "11  <tensorflow.python.keras.layers.convolutional.Conv2D object at 0x7f9746fe68d0>    ...  False         \n",
              "12  <tensorflow.python.keras.layers.convolutional.Conv2D object at 0x7f973f5b4d68>    ...  False         \n",
              "13  <tensorflow.python.keras.layers.convolutional.Conv2D object at 0x7f9746e59860>    ...  False         \n",
              "14  <tensorflow.python.keras.layers.pooling.MaxPooling2D object at 0x7f973e5e5d30>    ...  False         \n",
              "15  <tensorflow.python.keras.layers.convolutional.Conv2D object at 0x7f9744b20828>    ...  False         \n",
              "16  <tensorflow.python.keras.layers.convolutional.Conv2D object at 0x7f973f62b390>    ...  False         \n",
              "17  <tensorflow.python.keras.layers.convolutional.Conv2D object at 0x7f973f62bba8>    ...  False         \n",
              "18  <tensorflow.python.keras.layers.pooling.MaxPooling2D object at 0x7f973e5132b0>    ...  False         \n",
              "19  <tensorflow.python.keras.layers.core.Flatten object at 0x7f9740a60780>            ...  False         \n",
              "\n",
              "[20 rows x 3 columns]"
            ]
          },
          "metadata": {
            "tags": []
          },
          "execution_count": 164
        }
      ]
    },
    {
      "cell_type": "code",
      "metadata": {
        "colab": {
          "base_uri": "https://localhost:8080/"
        },
        "id": "41g541JQTKWp",
        "outputId": "259bd2c9-672d-436a-b27f-47bddcc9a33f"
      },
      "source": [
        "#############    VGG Feature Extraction    #####################\n",
        "def get_bottleneck_features(model, input_imgs):\n",
        "    features = model.predict(input_imgs, verbose=1)\n",
        "    return features\n",
        "    \n",
        "train_feat_vgg = get_bottleneck_features(vgg_model, X_train_img)\n",
        "val_feat_vgg = get_bottleneck_features(vgg_model, X_val_img)\n",
        "test_feat_vgg = get_bottleneck_features(vgg_model, X_test_img)\n",
        "\n",
        "print('Train Bottleneck Features:', train_feat_vgg.shape, \n",
        "      '\\nValidation Bottleneck Features:', val_feat_vgg.shape, \n",
        "      '\\nTest Bottleneck Features:', test_feat_vgg.shape)"
      ],
      "execution_count": null,
      "outputs": [
        {
          "output_type": "stream",
          "text": [
            "20/20 [==============================] - 103s 5s/step\n",
            "7/7 [==============================] - 34s 5s/step\n",
            "7/7 [==============================] - 34s 5s/step\n",
            "Train Bottleneck Features: (630, 8192) \n",
            "Validation Bottleneck Features: (211, 8192) \n",
            "Test Bottleneck Features: (211, 8192)\n"
          ],
          "name": "stdout"
        }
      ]
    },
    {
      "cell_type": "code",
      "metadata": {
        "colab": {
          "base_uri": "https://localhost:8080/"
        },
        "id": "cPd4XmAQTNLe",
        "outputId": "c399fb2f-f61b-422e-9374-2aa414556957"
      },
      "source": [
        "print(vgg_model.output_shape[1])"
      ],
      "execution_count": null,
      "outputs": [
        {
          "output_type": "stream",
          "text": [
            "8192\n"
          ],
          "name": "stdout"
        }
      ]
    },
    {
      "cell_type": "code",
      "metadata": {
        "id": "qU1ltElqTQBb"
      },
      "source": [
        "######################################################################################     Image classifier model architecture   ####################################################################\n",
        "from tensorflow.python.keras import Sequential\n",
        "from keras.applications import Xception\n",
        "from tensorflow.python.keras.layers import Dense, Conv2D, MaxPooling2D,  Flatten, InputLayer, BatchNormalization, Dropout, Concatenate\n",
        "from tensorflow.keras.utils import plot_model\n",
        "\n",
        "# ###### Part 1 - Initialising the CNN ------>\n",
        "classifier_img = Sequential()\n",
        "\n",
        "# ##### VGG without aug --------->\n",
        "input_layer = vgg_model.output_shape[1]\n",
        "classifier_img.add(InputLayer(input_shape=(input_layer,)))\n",
        "\n",
        "# # ######  VGG with Aug --------->\n",
        "# # classifier_img.add(vgg_model)\n",
        "\n",
        "# ###### Full Connection ->\n",
        "classifier_img.add(Dense(units = 512, activation = 'relu',input_dim = input_layer))\n",
        "classifier_img.add(BatchNormalization())\n",
        "classifier_img.add(Dropout(0.5))\n",
        "classifier_img.add(Flatten())\n",
        "#classifier_img.add(Dense(units = 1, activation = 'sigmoid'))\n",
        "\n",
        "#classifier_img.summary()\n",
        "#plot_model(classifier_img, to_file='classifier_img_plot.png', show_shapes=True, show_layer_names=True)"
      ],
      "execution_count": null,
      "outputs": []
    },
    {
      "cell_type": "code",
      "metadata": {
        "id": "ak6lwqbBTSrO"
      },
      "source": [
        "##############################################################     Bi-LSTM model for title     ###############################################\n",
        "\n",
        "from keras.models import Model, Sequential\n",
        "from keras.layers import LSTM, Activation, Dense, Dropout, Input, Embedding, Bidirectional\n",
        "from keras.optimizers import RMSprop\n",
        "from keras.preprocessing.text import Tokenizer\n",
        "from keras.preprocessing import sequence\n",
        "from keras.utils import to_categorical\n",
        "from keras.callbacks import EarlyStopping, ModelCheckpoint\n",
        "from keras.layers.normalization import BatchNormalization\n",
        "from keras.utils.vis_utils import plot_model\n",
        "\n",
        "max_words = 1000\n",
        "max_len = 300\n",
        "\n",
        "classifier_title = Sequential()\n",
        "classifier_title.add(Embedding(max_words,50,input_length=max_len))\n",
        "classifier_title.add(Bidirectional(LSTM(64)))\n",
        "classifier_title.add(Dense(256,name='FC1'))\n",
        "classifier_title.add(BatchNormalization())\n",
        "classifier_title.add(Activation('relu'))\n",
        "classifier_title.add(Dropout(0.5))\n",
        "classifier_title.add(Flatten())\n",
        "#classifier_title.add(Dense(1,name='out_layer'))\n",
        "#classifier_title.add(BatchNormalization())\n",
        "#classifier_title.add(Activation('sigmoid'))\n",
        "\n",
        "#classifier_title.summary()"
      ],
      "execution_count": null,
      "outputs": []
    },
    {
      "cell_type": "code",
      "metadata": {
        "id": "j2P6lTGWTv4C"
      },
      "source": [
        "merged_model = Concatenate() ([classifier_img.output, classifier_title.output])\n",
        "\n",
        "x = Dense(512, activation='relu')(merged_model)\n",
        "x = Dropout(0.4)(x)\n",
        "x = Dense(128, activation='relu')(x)\n",
        "x = Dropout(0.4)(x)\n",
        "'''x = Dense(32, activation='relu')(x)\n",
        "x = Dropout(0.2)(x)'''\n",
        "output = Dense(1, activation= 'sigmoid')(x)"
      ],
      "execution_count": null,
      "outputs": []
    },
    {
      "cell_type": "code",
      "metadata": {
        "id": "L38flkUVTzQy"
      },
      "source": [
        "final_model = Model(inputs=[classifier_img.input, classifier_title.input], outputs = [output])"
      ],
      "execution_count": null,
      "outputs": []
    },
    {
      "cell_type": "code",
      "metadata": {
        "id": "AiU8xCdNT4hj"
      },
      "source": [
        "final_model.compile(loss='binary_crossentropy',optimizer='adam',metrics=['accuracy'])"
      ],
      "execution_count": null,
      "outputs": []
    },
    {
      "cell_type": "code",
      "metadata": {
        "colab": {
          "base_uri": "https://localhost:8080/"
        },
        "id": "s4ZqdNebT5YM",
        "outputId": "bc63d2ab-a41d-445a-9abe-58dabc233a5f"
      },
      "source": [
        "final_model.summary()"
      ],
      "execution_count": null,
      "outputs": [
        {
          "output_type": "stream",
          "text": [
            "Model: \"model_15\"\n",
            "__________________________________________________________________________________________________\n",
            "Layer (type)                    Output Shape         Param #     Connected to                     \n",
            "==================================================================================================\n",
            "embedding_7_input (InputLayer)  [(None, 300)]        0                                            \n",
            "__________________________________________________________________________________________________\n",
            "embedding_7 (Embedding)         (None, 300, 50)      50000       embedding_7_input[0][0]          \n",
            "__________________________________________________________________________________________________\n",
            "bidirectional_3 (Bidirectional) (None, 128)          58880       embedding_7[0][0]                \n",
            "__________________________________________________________________________________________________\n",
            "input_16 (InputLayer)           [(None, 8192)]       0                                            \n",
            "__________________________________________________________________________________________________\n",
            "FC1 (Dense)                     (None, 256)          33024       bidirectional_3[0][0]            \n",
            "__________________________________________________________________________________________________\n",
            "dense_28 (Dense)                (None, 512)          4194816     input_16[0][0]                   \n",
            "__________________________________________________________________________________________________\n",
            "batch_normalization_211 (BatchN (None, 256)          1024        FC1[0][0]                        \n",
            "__________________________________________________________________________________________________\n",
            "batch_normalization_210 (BatchN (None, 512)          2048        dense_28[0][0]                   \n",
            "__________________________________________________________________________________________________\n",
            "activation_195 (Activation)     (None, 256)          0           batch_normalization_211[0][0]    \n",
            "__________________________________________________________________________________________________\n",
            "dropout_28 (Dropout)            (None, 512)          0           batch_normalization_210[0][0]    \n",
            "__________________________________________________________________________________________________\n",
            "dropout_29 (Dropout)            (None, 256)          0           activation_195[0][0]             \n",
            "__________________________________________________________________________________________________\n",
            "flatten_22 (Flatten)            (None, 512)          0           dropout_28[0][0]                 \n",
            "__________________________________________________________________________________________________\n",
            "flatten_23 (Flatten)            (None, 256)          0           dropout_29[0][0]                 \n",
            "__________________________________________________________________________________________________\n",
            "concatenate_11 (Concatenate)    (None, 768)          0           flatten_22[0][0]                 \n",
            "                                                                 flatten_23[0][0]                 \n",
            "__________________________________________________________________________________________________\n",
            "dense_29 (Dense)                (None, 512)          393728      concatenate_11[0][0]             \n",
            "__________________________________________________________________________________________________\n",
            "dropout_30 (Dropout)            (None, 512)          0           dense_29[0][0]                   \n",
            "__________________________________________________________________________________________________\n",
            "dense_30 (Dense)                (None, 128)          65664       dropout_30[0][0]                 \n",
            "__________________________________________________________________________________________________\n",
            "dropout_31 (Dropout)            (None, 128)          0           dense_30[0][0]                   \n",
            "__________________________________________________________________________________________________\n",
            "dense_31 (Dense)                (None, 1)            129         dropout_31[0][0]                 \n",
            "==================================================================================================\n",
            "Total params: 4,799,313\n",
            "Trainable params: 4,797,777\n",
            "Non-trainable params: 1,536\n",
            "__________________________________________________________________________________________________\n"
          ],
          "name": "stdout"
        }
      ]
    },
    {
      "cell_type": "code",
      "metadata": {
        "colab": {
          "base_uri": "https://localhost:8080/",
          "height": 1000
        },
        "id": "QGsav6wyUAVa",
        "outputId": "05b2b79d-43df-48fd-f7d8-44c4ce6485f4"
      },
      "source": [
        "plot_model(final_model, to_file='earlyfusionmodel.png', show_shapes=True, show_layer_names=True)"
      ],
      "execution_count": null,
      "outputs": [
        {
          "output_type": "execute_result",
          "data": {
            "image/png": "[encoded data removed]",
            "text/plain": [
              "<IPython.core.display.Image object>"
            ]
          },
          "metadata": {
            "tags": []
          },
          "execution_count": 173
        }
      ]
    },
    {
      "cell_type": "code",
      "metadata": {
        "colab": {
          "base_uri": "https://localhost:8080/"
        },
        "id": "MmmhchxQXDVR",
        "outputId": "7f9f2101-7a13-43b4-cb73-e724ff0b7b4b"
      },
      "source": [
        "history1 = final_model.fit([train_feat_vgg, X_train_title], Y_train,batch_size=64,epochs=15,verbose=1,validation_data=([val_feat_vgg, X_val_title],Y_val))"
      ],
      "execution_count": null,
      "outputs": [
        {
          "output_type": "stream",
          "text": [
            "Epoch 1/15\n",
            "10/10 [==============================] - 10s 605ms/step - loss: 0.6352 - accuracy: 0.7049 - val_loss: 0.7838 - val_accuracy: 0.8057\n",
            "Epoch 2/15\n",
            "10/10 [==============================] - 6s 576ms/step - loss: 0.4616 - accuracy: 0.8180 - val_loss: 0.8165 - val_accuracy: 0.8057\n",
            "Epoch 3/15\n",
            "10/10 [==============================] - 5s 524ms/step - loss: 0.3582 - accuracy: 0.8615 - val_loss: 0.8463 - val_accuracy: 0.8057\n",
            "Epoch 4/15\n",
            "10/10 [==============================] - 5s 511ms/step - loss: 0.3222 - accuracy: 0.8903 - val_loss: 0.6775 - val_accuracy: 0.8009\n",
            "Epoch 5/15\n",
            "10/10 [==============================] - 5s 504ms/step - loss: 0.1692 - accuracy: 0.9325 - val_loss: 1.2795 - val_accuracy: 0.8057\n",
            "Epoch 6/15\n",
            "10/10 [==============================] - 5s 506ms/step - loss: 0.0924 - accuracy: 0.9679 - val_loss: 1.3160 - val_accuracy: 0.8057\n",
            "Epoch 7/15\n",
            "10/10 [==============================] - 5s 503ms/step - loss: 0.0659 - accuracy: 0.9685 - val_loss: 1.5362 - val_accuracy: 0.8104\n",
            "Epoch 8/15\n",
            "10/10 [==============================] - 5s 511ms/step - loss: 0.0288 - accuracy: 0.9946 - val_loss: 1.7600 - val_accuracy: 0.8057\n",
            "Epoch 9/15\n",
            "10/10 [==============================] - 5s 514ms/step - loss: 0.0127 - accuracy: 0.9976 - val_loss: 1.7110 - val_accuracy: 0.8057\n",
            "Epoch 10/15\n",
            "10/10 [==============================] - 5s 512ms/step - loss: 0.0138 - accuracy: 0.9956 - val_loss: 1.8900 - val_accuracy: 0.8057\n",
            "Epoch 11/15\n",
            "10/10 [==============================] - 5s 510ms/step - loss: 0.0125 - accuracy: 0.9948 - val_loss: 1.5943 - val_accuracy: 0.8057\n",
            "Epoch 12/15\n",
            "10/10 [==============================] - 5s 509ms/step - loss: 0.0161 - accuracy: 0.9937 - val_loss: 1.4665 - val_accuracy: 0.8009\n",
            "Epoch 13/15\n",
            "10/10 [==============================] - 5s 514ms/step - loss: 0.0081 - accuracy: 0.9972 - val_loss: 1.5548 - val_accuracy: 0.8009\n",
            "Epoch 14/15\n",
            "10/10 [==============================] - 5s 512ms/step - loss: 0.0119 - accuracy: 0.9946 - val_loss: 1.8400 - val_accuracy: 0.8057\n",
            "Epoch 15/15\n",
            "10/10 [==============================] - 5s 515ms/step - loss: 0.0024 - accuracy: 0.9996 - val_loss: 1.9861 - val_accuracy: 0.8057\n"
          ],
          "name": "stdout"
        }
      ]
    },
    {
      "cell_type": "code",
      "metadata": {
        "colab": {
          "base_uri": "https://localhost:8080/",
          "height": 752
        },
        "id": "DRAsa8GhXJEF",
        "outputId": "1b56a3b3-fc7d-4c59-8b9c-c22af2c5f639"
      },
      "source": [
        "print(history1.history.keys())\n",
        "##################### summarize history for accuracy\n",
        "plt.plot(history1.history['accuracy'])\n",
        "plt.plot(history1.history['val_accuracy'])\n",
        "plt.title('model accuracy')\n",
        "plt.ylabel('accuracy')\n",
        "plt.xlabel('epoch')\n",
        "plt.legend(['train', 'test'], loc='upper left')\n",
        "plt.show()\n",
        "###################### summarize history for loss\n",
        "plt.plot(history1.history['loss'])\n",
        "plt.plot(history1.history['val_loss'])\n",
        "plt.title('model loss')\n",
        "plt.ylabel('loss')\n",
        "plt.xlabel('epoch')\n",
        "plt.legend(['train', 'test'], loc='upper left')\n",
        "plt.show()"
      ],
      "execution_count": null,
      "outputs": [
        {
          "output_type": "stream",
          "text": [
            "dict_keys(['loss', 'accuracy', 'val_loss', 'val_accuracy'])\n"
          ],
          "name": "stdout"
        },
        {
          "output_type": "display_data",
          "data": {
            "image/png": "[encoded data removed]",
            "text/plain": [
              "<Figure size 576x396 with 1 Axes>"
            ]
          },
          "metadata": {
            "tags": []
          }
        },
        {
          "output_type": "display_data",
          "data": {
            "image/png": "[encoded data removed]",
            "text/plain": [
              "<Figure size 576x396 with 1 Axes>"
            ]
          },
          "metadata": {
            "tags": []
          }
        }
      ]
    },
    {
      "cell_type": "code",
      "metadata": {
        "colab": {
          "base_uri": "https://localhost:8080/"
        },
        "id": "gLCV1FLDXlDw",
        "outputId": "257bc932-cbfe-4f4a-c705-461a6e0a3a6f"
      },
      "source": [
        "from sklearn.metrics import confusion_matrix\n",
        "from sklearn.metrics import accuracy_score\n",
        "\n",
        "Y_pred = final_model.predict([test_feat_vgg, X_test_title])\n",
        "# Y_pred_prob_img = classifier_text.predict_proba(test_feat_vgg)\n",
        "\n",
        "cm_img = confusion_matrix(Y_test, Y_pred.round())\n",
        "print(cm_img)\n",
        "print(\"\\n\")\n",
        "accuracy_img = accuracy_score(Y_test, Y_pred.round())\n",
        "print('Accuracy: %f' % accuracy_img)"
      ],
      "execution_count": null,
      "outputs": [
        {
          "output_type": "stream",
          "text": [
            "[[  1  30]\n",
            " [  0 180]]\n",
            "\n",
            "\n",
            "Accuracy: 0.857820\n"
          ],
          "name": "stdout"
        }
      ]
    },
    {
      "cell_type": "code",
      "metadata": {
        "colab": {
          "base_uri": "https://localhost:8080/"
        },
        "id": "b98buIiWZGNC",
        "outputId": "8d4e2ab3-c070-4c15-9ccb-f01f8ae5accb"
      },
      "source": [
        "###################        Save Image Model      ####################\n",
        "final_model.save(\"final_model.h5\")\n",
        "print(\"Saved model to disk\")"
      ],
      "execution_count": null,
      "outputs": [
        {
          "output_type": "stream",
          "text": [
            "Saved model to disk\n"
          ],
          "name": "stdout"
        }
      ]
    },
    {
      "cell_type": "code",
      "metadata": {
        "colab": {
          "base_uri": "https://localhost:8080/"
        },
        "id": "sADeJTxebtRc",
        "outputId": "5eafe0a7-27b5-4483-ab48-70cea974d22f"
      },
      "source": [
        "# load and evaluate a saved model\n",
        "from keras.models import load_model\n",
        " \n",
        "# load model\n",
        "final_model = load_model('final_model.h5')\n",
        "# summarize model.\n",
        "print(final_model.summary())"
      ],
      "execution_count": null,
      "outputs": [
        {
          "output_type": "stream",
          "text": [
            "Model: \"model_15\"\n",
            "__________________________________________________________________________________________________\n",
            "Layer (type)                    Output Shape         Param #     Connected to                     \n",
            "==================================================================================================\n",
            "embedding_7_input (InputLayer)  [(None, 300)]        0                                            \n",
            "__________________________________________________________________________________________________\n",
            "embedding_7 (Embedding)         (None, 300, 50)      50000       embedding_7_input[0][0]          \n",
            "__________________________________________________________________________________________________\n",
            "bidirectional_3 (Bidirectional) (None, 128)          58880       embedding_7[0][0]                \n",
            "__________________________________________________________________________________________________\n",
            "input_16 (InputLayer)           [(None, 8192)]       0                                            \n",
            "__________________________________________________________________________________________________\n",
            "FC1 (Dense)                     (None, 256)          33024       bidirectional_3[0][0]            \n",
            "__________________________________________________________________________________________________\n",
            "dense_28 (Dense)                (None, 512)          4194816     input_16[0][0]                   \n",
            "__________________________________________________________________________________________________\n",
            "batch_normalization_211 (BatchN (None, 256)          1024        FC1[0][0]                        \n",
            "__________________________________________________________________________________________________\n",
            "batch_normalization_210 (BatchN (None, 512)          2048        dense_28[0][0]                   \n",
            "__________________________________________________________________________________________________\n",
            "activation_195 (Activation)     (None, 256)          0           batch_normalization_211[0][0]    \n",
            "__________________________________________________________________________________________________\n",
            "dropout_28 (Dropout)            (None, 512)          0           batch_normalization_210[0][0]    \n",
            "__________________________________________________________________________________________________\n",
            "dropout_29 (Dropout)            (None, 256)          0           activation_195[0][0]             \n",
            "__________________________________________________________________________________________________\n",
            "flatten_22 (Flatten)            (None, 512)          0           dropout_28[0][0]                 \n",
            "__________________________________________________________________________________________________\n",
            "flatten_23 (Flatten)            (None, 256)          0           dropout_29[0][0]                 \n",
            "__________________________________________________________________________________________________\n",
            "concatenate_11 (Concatenate)    (None, 768)          0           flatten_22[0][0]                 \n",
            "                                                                 flatten_23[0][0]                 \n",
            "__________________________________________________________________________________________________\n",
            "dense_29 (Dense)                (None, 512)          393728      concatenate_11[0][0]             \n",
            "__________________________________________________________________________________________________\n",
            "dropout_30 (Dropout)            (None, 512)          0           dense_29[0][0]                   \n",
            "__________________________________________________________________________________________________\n",
            "dense_30 (Dense)                (None, 128)          65664       dropout_30[0][0]                 \n",
            "__________________________________________________________________________________________________\n",
            "dropout_31 (Dropout)            (None, 128)          0           dense_30[0][0]                   \n",
            "__________________________________________________________________________________________________\n",
            "dense_31 (Dense)                (None, 1)            129         dropout_31[0][0]                 \n",
            "==================================================================================================\n",
            "Total params: 4,799,313\n",
            "Trainable params: 4,797,777\n",
            "Non-trainable params: 1,536\n",
            "__________________________________________________________________________________________________\n",
            "None\n"
          ],
          "name": "stdout"
        }
      ]
    },
    {
      "cell_type": "code",
      "metadata": {
        "id": "y9RLnU1Rb46E"
      },
      "source": [
        "#################################################   Blue Cnf matrix  #####################################################\n",
        "import matplotlib.pyplot as plt\n",
        "import numpy as np\n",
        "import itertools\n",
        "\n",
        "def plot_confusion_matrix(cm1,\n",
        "                          target_names,\n",
        "                          title='Confusion matrix',\n",
        "                          cmap=None,\n",
        "                          normalize=True):\n",
        "  accuracy = np.trace(cm1) / float(np.sum(cm1))\n",
        "  misclass = 1 - accuracy\n",
        "\n",
        "  if cmap is None:\n",
        "    cmap = plt.get_cmap('Blues')\n",
        "\n",
        "  plt.figure(figsize=(6, 4))\n",
        "  plt.imshow(cm1, interpolation='nearest', cmap=cmap)\n",
        "  plt.title(title)\n",
        "  plt.colorbar()\n",
        "\n",
        "  if target_names is not None:\n",
        "    tick_marks = np.arange(len(target_names))\n",
        "    plt.xticks(tick_marks, target_names, rotation=45)\n",
        "    plt.yticks(tick_marks, target_names)\n",
        "\n",
        "  if normalize:\n",
        "    cm1 = cm1.astype('float') / cm1.sum(axis=1)[:, np.newaxis]\n",
        "\n",
        "  thresh = cm1.max() / 1.5 if normalize else cm1.max() / 2\n",
        "  for i, j in itertools.product(range(cm1.shape[0]), range(cm1.shape[1])):\n",
        "    if normalize:\n",
        "      plt.text(j, i, \"{:0.4f}\".format(cm1[i, j]),\n",
        "            horizontalalignment=\"center\",\n",
        "            color=\"white\" if cm1[i, j] > thresh else \"black\")\n",
        "    else:\n",
        "      plt.text(j, i, \"{:,}\".format(cm1[i, j]),\n",
        "            horizontalalignment=\"center\",\n",
        "            color=\"white\" if cm1[i, j] > thresh else \"black\")\n",
        "\n",
        "  plt.tight_layout()\n",
        "  plt.ylabel('True label')\n",
        "  plt.xlabel('Predicted label\\naccuracy={:0.4f}; misclass={:0.4f}'.format(accuracy, misclass))\n",
        "  plt.show()"
      ],
      "execution_count": null,
      "outputs": []
    },
    {
      "cell_type": "code",
      "metadata": {
        "colab": {
          "base_uri": "https://localhost:8080/",
          "height": 612
        },
        "id": "IQhfgH9xb_fx",
        "outputId": "d8e19b4d-4671-477a-c8ab-2122d3db9542"
      },
      "source": [
        "###################################################   Results of VGG16 over Images    ########################################\n",
        "from sklearn.metrics import confusion_matrix, classification_report\n",
        "from sklearn.metrics import accuracy_score\n",
        "from sklearn.metrics import precision_score\n",
        "from sklearn.metrics import recall_score\n",
        "from sklearn.metrics import f1_score\n",
        "from sklearn.metrics import cohen_kappa_score\n",
        "from sklearn.metrics import roc_auc_score\n",
        "\n",
        "Y_pred = final_model.predict([test_feat_vgg, X_test_title])\n",
        "#Y_pred_prob = final_model.predict_proba([test_feat_vgg, X_test_title])\n",
        "cm_img = confusion_matrix(Y_test, Y_pred.round())\n",
        "print(cm_img)\n",
        "print(\"\\n\")\n",
        "accuracy_img = accuracy_score(Y_test, Y_pred.round())\n",
        "print('Accuracy: %f' % accuracy_img)\n",
        "print(\"\\n\")\n",
        "\n",
        "classreport_img = classification_report(Y_test, Y_pred.round())\n",
        "print(classreport_img)\n",
        "print(\"roc_auc_score =\",roc_auc_score(Y_test, Y_pred, average='macro'))\n",
        "\n",
        "plot_confusion_matrix(cm1 =cm_img, normalize = False,target_names = ['real','fake'],title = \"Image Confusion Matrix\")"
      ],
      "execution_count": null,
      "outputs": [
        {
          "output_type": "stream",
          "text": [
            "[[  1  30]\n",
            " [  0 180]]\n",
            "\n",
            "\n",
            "Accuracy: 0.857820\n",
            "\n",
            "\n",
            "              precision    recall  f1-score   support\n",
            "\n",
            "           0       1.00      0.03      0.06        31\n",
            "           1       0.86      1.00      0.92       180\n",
            "\n",
            "    accuracy                           0.86       211\n",
            "   macro avg       0.93      0.52      0.49       211\n",
            "weighted avg       0.88      0.86      0.80       211\n",
            "\n",
            "roc_auc_score = 0.5601254480286738\n"
          ],
          "name": "stdout"
        },
        {
          "output_type": "display_data",
          "data": {
            "image/png": "[encoded data removed]",
            "text/plain": [
              "<Figure size 432x288 with 2 Axes>"
            ]
          },
          "metadata": {
            "tags": []
          }
        }
      ]
    },
    {
      "cell_type": "code",
      "metadata": {
        "colab": {
          "base_uri": "https://localhost:8080/",
          "height": 395
        },
        "id": "Y-EswK_Rcf08",
        "outputId": "908c8144-81bf-4966-e837-ae5660187d1d"
      },
      "source": [
        "###################################################   ROC for Images    ########################################\n",
        "from sklearn.metrics import roc_curve\n",
        "from sklearn.metrics import roc_auc_score\n",
        "from matplotlib import pyplot\n",
        "\n",
        "# generate a no skill prediction (majority class)\n",
        "ns_probs = [0 for _ in range(len(Y_test))]\n",
        "\n",
        "# predict probabilities\n",
        "lr_probs = Y_pred\n",
        "# keep probabilities for the positive outcome only\n",
        "#lr_probs = lr_probs[:, 1]\n",
        "# calculate scores\n",
        "ns_auc = roc_auc_score(Y_test, ns_probs)\n",
        "lr_auc = roc_auc_score(Y_test, lr_probs)\n",
        "# summarize scores\n",
        "print('No Skill: ROC AUC=%.3f' % (ns_auc))\n",
        "print('VGG16: ROC AUC=%.3f' % (lr_auc))\n",
        "# calculate roc curves\n",
        "ns_fpr, ns_tpr, _ = roc_curve(Y_test, ns_probs)\n",
        "lr_fpr, lr_tpr, _ = roc_curve(Y_test, lr_probs)\n",
        "# plot the roc curve for the model\n",
        "pyplot.plot(ns_fpr, ns_tpr, linestyle='--', label='No Skill')\n",
        "pyplot.plot(lr_fpr, lr_tpr, marker='.', label='VGG16')\n",
        "# axis labels\n",
        "pyplot.xlabel('False Positive Rate')\n",
        "pyplot.ylabel('True Positive Rate')\n",
        "# show the legend\n",
        "pyplot.legend()\n",
        "# show the plot\n",
        "pyplot.show()"
      ],
      "execution_count": null,
      "outputs": [
        {
          "output_type": "stream",
          "text": [
            "No Skill: ROC AUC=0.500\n",
            "VGG16: ROC AUC=0.560\n"
          ],
          "name": "stdout"
        },
        {
          "output_type": "display_data",
          "data": {
            "image/png": "[encoded data removed]",
            "text/plain": [
              "<Figure size 576x396 with 1 Axes>"
            ]
          },
          "metadata": {
            "tags": []
          }
        }
      ]
    },
    {
      "cell_type": "code",
      "metadata": {
        "id": "u953FP7lc9x6"
      },
      "source": [
        ""
      ],
      "execution_count": null,
      "outputs": []
    }
  ]
}